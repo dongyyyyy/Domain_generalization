{
 "cells": [
  {
   "cell_type": "markdown",
   "metadata": {},
   "source": [
    "#### !pip install hub\n",
    "#### 해당 라이브러리 설치하여 PACS 데이터셋 불러올 수 있도록 설정"
   ]
  },
  {
   "cell_type": "code",
   "execution_count": 1,
   "metadata": {},
   "outputs": [
    {
     "name": "stdout",
     "output_type": "stream",
     "text": [
      "hub://activeloop/pacs-train loaded successfully.\n",
      "This dataset can be visualized in Jupyter Notebook by ds.visualize() or at https://app.activeloop.ai/activeloop/pacs-train\n",
      "hub://activeloop/pacs-val loaded successfully.\n",
      "This dataset can be visualized in Jupyter Notebook by ds.visualize() or at https://app.activeloop.ai/activeloop/pacs-val\n",
      "hub://activeloop/pacs-test loaded successfully.\n",
      "This dataset can be visualized in Jupyter Notebook by ds.visualize() or at https://app.activeloop.ai/activeloop/pacs-test\n"
     ]
    }
   ],
   "source": [
    "\n",
    "import hub\n",
    "train_dataset = hub.load('hub://activeloop/pacs-train')\n",
    "val_dataset = hub.load('hub://activeloop/pacs-val')\n",
    "test_dataset = hub.load('hub://activeloop/pacs-test')"
   ]
  },
  {
   "cell_type": "code",
   "execution_count": 6,
   "metadata": {},
   "outputs": [
    {
     "name": "stdout",
     "output_type": "stream",
     "text": [
      "Dataset(path='hub://activeloop/pacs-train', read_only=True, tensors=['images', 'labels', 'domains'])\n"
     ]
    }
   ],
   "source": []
  },
  {
   "cell_type": "markdown",
   "metadata": {},
   "source": [
    "#### dataloader를 hub를 활용하면 다음과 같이 활용하여 만들 수 있다.\n",
    "#### 'images' = 이미지 / labels = 정답(클래스) / domains = domain 정보(특정 도메인)\n",
    "##### PACS consists of Art painting, Cartoon, Photo and Sketch domains\n",
    "##### ref(info) : https://domaingeneralization.github.io/#dgintro\n",
    "##### ref(Download) : https://docs.activeloop.ai/datasets/pacs-dataset"
   ]
  },
  {
   "cell_type": "code",
   "execution_count": 8,
   "metadata": {},
   "outputs": [],
   "source": [
    "batch_size = 4\n",
    "from torchvision import datasets, transforms, models\n",
    "tform = transforms.Compose([\n",
    "    transforms.ToPILImage(), # Must convert to PIL image for subsequent operations to run\n",
    "    transforms.RandomRotation(20), # Image augmentation\n",
    "    transforms.ToTensor(), # Must convert to pytorch tensor for subsequent operations to run\n",
    "    transforms.Normalize([0.5, 0.5, 0.5], [0.5, 0.5, 0.5]),\n",
    "])\n",
    "eform = transforms.Compose([\n",
    "    transforms.ToPILImage(), # Must convert to PIL image for subsequent operations to run\n",
    "    transforms.ToTensor(), # Must convert to pytorch tensor for subsequent operations to run\n",
    "    transforms.Normalize([0.5, 0.5, 0.5], [0.5, 0.5, 0.5]),\n",
    "])\n",
    "train_dataloader = train_dataset.pytorch(num_workers=4,batch_size=batch_size,transform = {'images': tform, 'labels': None, 'domains':None},tensors=['images','labels','domains'],shuffle=True)\n",
    "val_dataloader = val_dataset.pytorch(num_workers=4,batch_size=batch_size,transform = {'images': eform, 'labels': None, 'domains':None},tensors=['images','labels','domains'],shuffle=False)\n",
    "test_dataloader = test_dataset.pytorch(num_workers=4,batch_size=batch_size,transform = {'images': eform, 'labels': None, 'domains':None},tensors=['images','labels','domains'],shuffle=False)"
   ]
  },
  {
   "cell_type": "markdown",
   "metadata": {},
   "source": [
    "#### dataloader for문을 통하여 정상적으로 데이터를 가져오는지 확인"
   ]
  },
  {
   "cell_type": "code",
   "execution_count": 10,
   "metadata": {},
   "outputs": [
    {
     "name": "stderr",
     "output_type": "stream",
     "text": [
      "Please wait, filling up the shuffle buffer with samples.: 100%|█████████▉| 1.91G/1.91G [00:45<00:00, 45.3MB/s]  \n"
     ]
    },
    {
     "name": "stdout",
     "output_type": "stream",
     "text": [
      "Shuffle buffer filling is complete.\n",
      "==============================\n",
      "tensor([[1],\n",
      "        [3],\n",
      "        [0],\n",
      "        [1]])\n",
      "tensor([[2],\n",
      "        [0],\n",
      "        [0],\n",
      "        [0]])\n"
     ]
    }
   ],
   "source": [
    "for datasets in train_dataloader:\n",
    "    img = datasets['images']\n",
    "    label = datasets['labels']\n",
    "    domains = datasets['domains']\n",
    "    # print(img)\n",
    "    print('='*30)\n",
    "    print(label)\n",
    "    print(domains)\n",
    "    break"
   ]
  },
  {
   "cell_type": "code",
   "execution_count": null,
   "metadata": {},
   "outputs": [],
   "source": []
  }
 ],
 "metadata": {
  "kernelspec": {
   "display_name": "Python 3.8.12 ('pytorch_p38')",
   "language": "python",
   "name": "python3"
  },
  "language_info": {
   "codemirror_mode": {
    "name": "ipython",
    "version": 3
   },
   "file_extension": ".py",
   "mimetype": "text/x-python",
   "name": "python",
   "nbconvert_exporter": "python",
   "pygments_lexer": "ipython3",
   "version": "3.8.12"
  },
  "orig_nbformat": 4,
  "vscode": {
   "interpreter": {
    "hash": "2cd1452618544b667d70d0feaebcedea185cfa44139336063f02cf92e1e17174"
   }
  }
 },
 "nbformat": 4,
 "nbformat_minor": 2
}
