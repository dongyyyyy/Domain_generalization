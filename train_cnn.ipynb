{
 "cells": [
  {
   "cell_type": "code",
   "execution_count": 1,
   "metadata": {},
   "outputs": [
    {
     "name": "stdout",
     "output_type": "stream",
     "text": [
      "['imagelist.txt', 'Art', 'Clipart', 'Product', 'RealWorld', 'ImageInfo.csv']\n",
      "['/home/eslab/dataset/OfficeHome/Art/', '/home/eslab/dataset/OfficeHome/Clipart/', '/home/eslab/dataset/OfficeHome/Product/', '/home/eslab/dataset/OfficeHome/RealWorld/']\n"
     ]
    }
   ],
   "source": [
    "from models.ResNet import *\n",
    "from utils.function import *\n",
    "from utils.dataloader_custom import *\n",
    "from info.OfficeHome_info import*\n",
    "from tqdm import tqdm\n",
    "import time\n",
    "import sys\n",
    "import os\n",
    "import torch\n",
    "import random\n",
    "import numpy as np\n",
    "\n",
    "# control random seed\n",
    "random_seed = 2\n",
    "random.seed(random_seed) # seed\n",
    "np.random.seed(random_seed)\n",
    "torch.manual_seed(random_seed)\n",
    "\n",
    "\n",
    "use_domain = [0,1,2]\n",
    "leave_one_domain = 3\n",
    "root_path = '/home/eslab/dataset/OfficeHome/'\n",
    "\n",
    "list_dir = os.listdir(root_path)\n",
    "\n",
    "print(list_dir)\n",
    "\n",
    "check_dir = []\n",
    "\n",
    "for check_name in list_dir:\n",
    "    if os.path.isdir(root_path + check_name+'/'):\n",
    "        check_dir.append(root_path + check_name + '/')\n",
    "        \n",
    "print(check_dir)\n",
    "\n",
    "img_list = search(root_path)"
   ]
  },
  {
   "cell_type": "code",
   "execution_count": 2,
   "metadata": {},
   "outputs": [
    {
     "name": "stdout",
     "output_type": "stream",
     "text": [
      "==============================\n",
      "Total Domain dataset length\n",
      "2427 4365 4439 4357\n",
      "==============================\n",
      "train_files\n",
      "1991 3549 3615 3545\n",
      "==============================\n",
      "val_files\n",
      "218 408 412 406\n",
      "==============================\n",
      "test_files\n",
      "218 408 412 406\n",
      "==============================\n",
      "leave-one-domain-files length\n",
      "4357\n",
      "==============================\n",
      "9155 1038 1038 4357\n"
     ]
    }
   ],
   "source": [
    "\n",
    "# print(domain_dic)\n",
    "# print(class_dic)\n",
    "# print(dataset_dic)\n",
    "\n",
    "\n",
    "for file_path in img_list:\n",
    "    class_name = file_path.split('/')[-2]\n",
    "    domain_name = file_path.split('/')[-3]\n",
    "    dataset_dic[domain_name][class_name].append(file_path)\n",
    "# print(domain_dic)\n",
    "# print(class_dic)``\n",
    "\n",
    "# print(dataset_dic[list(domain_dic.keys())[0]][list(class_dic.keys())[0]])\n",
    "\n",
    "train_list,val_list, test_list, leave_list = split_officehome_dataset_leave_one_domain_out(dataset_dic,use_domain,leave_one_domain)\n",
    "\n",
    "\n",
    "print(len(train_list),len(val_list),len(test_list),len(leave_list))\n",
    "\n",
    "\n",
    "# train_list / val_list / test_list index = { 0: 'Art' ,  1 :'Clipart' ,  2 : 'Product', 3 : 'RealWorld'}\n",
    "# if split_officehome_dataset_leave_one_domain_out second index = 3, 'RealWorld' dataset is leave one domain out test set and 0,1,2 datasets are training set(with val(early-stopping),test)\n",
    "\n",
    "\n"
   ]
  },
  {
   "cell_type": "code",
   "execution_count": 3,
   "metadata": {},
   "outputs": [],
   "source": [
    "import torchvision.models as models\n",
    "from models.ResNet import *\n",
    "from torchsummary import summary"
   ]
  },
  {
   "cell_type": "code",
   "execution_count": 4,
   "metadata": {},
   "outputs": [],
   "source": [
    "# model = resnet18(pretrained=True)\n",
    "# summary(model.cuda(),(3,224,224))"
   ]
  },
  {
   "cell_type": "code",
   "execution_count": 5,
   "metadata": {},
   "outputs": [],
   "source": [
    "# torchvision_model = models.resnet18(pretrained=True)\n",
    "# summary(model.cuda(),(3,224,224))"
   ]
  },
  {
   "cell_type": "code",
   "execution_count": 6,
   "metadata": {},
   "outputs": [],
   "source": [
    "#!nvidia-smi"
   ]
  },
  {
   "cell_type": "code",
   "execution_count": 7,
   "metadata": {},
   "outputs": [
    {
     "name": "stdout",
     "output_type": "stream",
     "text": [
      "cpu num  = 36\n",
      "cuda : True\n",
      "gpu num : [0, 1, 2, 3]\n"
     ]
    }
   ],
   "source": [
    "import multiprocessing\n",
    "epochs = 100\n",
    "batch_size = 256\n",
    "\n",
    "b1 = 0.5\n",
    "b2 = 0.999\n",
    "\n",
    "beta = 0.001\n",
    "norm_square = 2\n",
    "\n",
    "learning_rate = 0.01\n",
    "\n",
    "image_size = 224\n",
    "\n",
    "cpu_num = multiprocessing.cpu_count()\n",
    "cuda = torch.cuda.is_available()\n",
    "gpu_num = [0,1,2,3]\n",
    "\n",
    "print(f'cpu num  = {cpu_num}')\n",
    "print(f'cuda : {cuda}')\n",
    "print(f'gpu num : {gpu_num}')\n",
    "device = torch.device(f\"cuda\" if torch.cuda.is_available() else \"cpu\")\n",
    "class_num = 65"
   ]
  },
  {
   "cell_type": "code",
   "execution_count": 8,
   "metadata": {},
   "outputs": [
    {
     "name": "stdout",
     "output_type": "stream",
     "text": [
      "img size = 224\n",
      "img size = 224\n",
      "img size = 224\n",
      "img size = 224\n"
     ]
    }
   ],
   "source": [
    "#train_list,val_list, test_list, leave_list\n",
    "train_dataset = get_officehome_loader(data_list=train_list,image_size=image_size,training=True)\n",
    "val_dataset = get_officehome_loader(data_list=val_list,image_size=image_size,training=False)\n",
    "test_dataset = get_officehome_loader(data_list=test_list,image_size=image_size,training=False)\n",
    "leave_one_dataset = get_officehome_loader(data_list=leave_list,image_size=image_size,training=False)\n",
    "\n",
    "weights,count = make_weights_for_balanced_classes(train_dataset.dataset_list)"
   ]
  },
  {
   "cell_type": "code",
   "execution_count": 9,
   "metadata": {},
   "outputs": [
    {
     "name": "stdout",
     "output_type": "stream",
     "text": [
      "[173, 160, 125, 147, 178, 212, 130, 130, 145, 189, 219, 106, 195, 156, 127, 119, 108, 81, 105, 125, 107, 151, 226, 169, 120, 129, 160, 194, 128, 178, 134, 117, 203, 119, 195, 116, 156, 155, 159, 104, 114, 88, 145, 135, 82, 168, 87, 112, 122, 116, 178, 117, 109, 105, 154, 116, 169, 125, 175, 126, 165, 102, 134, 135, 126]\n"
     ]
    }
   ],
   "source": [
    "print(count)\n",
    "weights = torch.DoubleTensor(weights)\n",
    "sampler = torch.utils.data.sampler.WeightedRandomSampler(weights,len(weights))"
   ]
  },
  {
   "cell_type": "code",
   "execution_count": 10,
   "metadata": {},
   "outputs": [],
   "source": [
    "from torch.utils.data import DataLoader\n",
    "\n",
    "train_dataloader = DataLoader(dataset=train_dataset,batch_size=batch_size,sampler=sampler,num_workers=(cpu_num//4))\n",
    "val_dataloader = DataLoader(dataset=val_dataset, batch_size=batch_size,shuffle=False, num_workers=(cpu_num//4))\n",
    "test_dataloader = DataLoader(dataset=test_dataset, batch_size=batch_size,shuffle=False, num_workers=(cpu_num//4))\n",
    "leave_one_dataloader = DataLoader(dataset=leave_one_dataset, batch_size=batch_size,shuffle=False, num_workers=(cpu_num//4))"
   ]
  },
  {
   "cell_type": "code",
   "execution_count": 11,
   "metadata": {},
   "outputs": [
    {
     "name": "stdout",
     "output_type": "stream",
     "text": [
      "====================list length====================\n",
      "9155 1038 1038 4357\n",
      "====================dataloader length====================\n",
      "9155 1038 1038 4357\n"
     ]
    }
   ],
   "source": [
    "print('='*20 + 'list length' + '='*20)\n",
    "print(len(train_list),len(val_list),len(test_list),len(leave_list))\n",
    "print('='*20 + 'dataloader length' + '='*20)\n",
    "print(train_dataset.__len__(),val_dataset.__len__(),test_dataset.__len__(),leave_one_dataset.__len__())"
   ]
  },
  {
   "cell_type": "code",
   "execution_count": 12,
   "metadata": {},
   "outputs": [
    {
     "name": "stdout",
     "output_type": "stream",
     "text": [
      "https://download.pytorch.org/models/resnet18-5c106cde.pth\n",
      "----------------------------------------------------------------\n",
      "        Layer (type)               Output Shape         Param #\n",
      "================================================================\n",
      "            Conv2d-1         [-1, 64, 112, 112]           9,408\n",
      "       BatchNorm2d-2         [-1, 64, 112, 112]             128\n",
      "              ReLU-3         [-1, 64, 112, 112]               0\n",
      "         MaxPool2d-4           [-1, 64, 56, 56]               0\n",
      "            Conv2d-5           [-1, 64, 56, 56]          36,864\n",
      "       BatchNorm2d-6           [-1, 64, 56, 56]             128\n",
      "              ReLU-7           [-1, 64, 56, 56]               0\n",
      "            Conv2d-8           [-1, 64, 56, 56]          36,864\n",
      "       BatchNorm2d-9           [-1, 64, 56, 56]             128\n",
      "             ReLU-10           [-1, 64, 56, 56]               0\n",
      "       BasicBlock-11           [-1, 64, 56, 56]               0\n",
      "           Conv2d-12           [-1, 64, 56, 56]          36,864\n",
      "      BatchNorm2d-13           [-1, 64, 56, 56]             128\n",
      "             ReLU-14           [-1, 64, 56, 56]               0\n",
      "           Conv2d-15           [-1, 64, 56, 56]          36,864\n",
      "      BatchNorm2d-16           [-1, 64, 56, 56]             128\n",
      "             ReLU-17           [-1, 64, 56, 56]               0\n",
      "       BasicBlock-18           [-1, 64, 56, 56]               0\n",
      "           Conv2d-19          [-1, 128, 28, 28]          73,728\n",
      "      BatchNorm2d-20          [-1, 128, 28, 28]             256\n",
      "             ReLU-21          [-1, 128, 28, 28]               0\n",
      "           Conv2d-22          [-1, 128, 28, 28]         147,456\n",
      "      BatchNorm2d-23          [-1, 128, 28, 28]             256\n",
      "           Conv2d-24          [-1, 128, 28, 28]           8,192\n",
      "      BatchNorm2d-25          [-1, 128, 28, 28]             256\n",
      "             ReLU-26          [-1, 128, 28, 28]               0\n",
      "       BasicBlock-27          [-1, 128, 28, 28]               0\n",
      "           Conv2d-28          [-1, 128, 28, 28]         147,456\n",
      "      BatchNorm2d-29          [-1, 128, 28, 28]             256\n",
      "             ReLU-30          [-1, 128, 28, 28]               0\n",
      "           Conv2d-31          [-1, 128, 28, 28]         147,456\n",
      "      BatchNorm2d-32          [-1, 128, 28, 28]             256\n",
      "             ReLU-33          [-1, 128, 28, 28]               0\n",
      "       BasicBlock-34          [-1, 128, 28, 28]               0\n",
      "           Conv2d-35          [-1, 256, 14, 14]         294,912\n",
      "      BatchNorm2d-36          [-1, 256, 14, 14]             512\n",
      "             ReLU-37          [-1, 256, 14, 14]               0\n",
      "           Conv2d-38          [-1, 256, 14, 14]         589,824\n",
      "      BatchNorm2d-39          [-1, 256, 14, 14]             512\n",
      "           Conv2d-40          [-1, 256, 14, 14]          32,768\n",
      "      BatchNorm2d-41          [-1, 256, 14, 14]             512\n",
      "             ReLU-42          [-1, 256, 14, 14]               0\n",
      "       BasicBlock-43          [-1, 256, 14, 14]               0\n",
      "           Conv2d-44          [-1, 256, 14, 14]         589,824\n",
      "      BatchNorm2d-45          [-1, 256, 14, 14]             512\n",
      "             ReLU-46          [-1, 256, 14, 14]               0\n",
      "           Conv2d-47          [-1, 256, 14, 14]         589,824\n",
      "      BatchNorm2d-48          [-1, 256, 14, 14]             512\n",
      "             ReLU-49          [-1, 256, 14, 14]               0\n",
      "       BasicBlock-50          [-1, 256, 14, 14]               0\n",
      "           Conv2d-51            [-1, 512, 7, 7]       1,179,648\n",
      "      BatchNorm2d-52            [-1, 512, 7, 7]           1,024\n",
      "             ReLU-53            [-1, 512, 7, 7]               0\n",
      "           Conv2d-54            [-1, 512, 7, 7]       2,359,296\n",
      "      BatchNorm2d-55            [-1, 512, 7, 7]           1,024\n",
      "           Conv2d-56            [-1, 512, 7, 7]         131,072\n",
      "      BatchNorm2d-57            [-1, 512, 7, 7]           1,024\n",
      "             ReLU-58            [-1, 512, 7, 7]               0\n",
      "       BasicBlock-59            [-1, 512, 7, 7]               0\n",
      "           Conv2d-60            [-1, 512, 7, 7]       2,359,296\n",
      "      BatchNorm2d-61            [-1, 512, 7, 7]           1,024\n",
      "             ReLU-62            [-1, 512, 7, 7]               0\n",
      "           Conv2d-63            [-1, 512, 7, 7]       2,359,296\n",
      "      BatchNorm2d-64            [-1, 512, 7, 7]           1,024\n",
      "             ReLU-65            [-1, 512, 7, 7]               0\n",
      "       BasicBlock-66            [-1, 512, 7, 7]               0\n",
      "AdaptiveAvgPool2d-67            [-1, 512, 1, 1]               0\n",
      "           Linear-68                 [-1, 1000]         513,000\n",
      "================================================================\n",
      "Total params: 11,689,512\n",
      "Trainable params: 11,689,512\n",
      "Non-trainable params: 0\n",
      "----------------------------------------------------------------\n",
      "Input size (MB): 0.57\n",
      "Forward/backward pass size (MB): 62.79\n",
      "Params size (MB): 44.59\n",
      "Estimated Total Size (MB): 107.96\n",
      "----------------------------------------------------------------\n"
     ]
    },
    {
     "name": "stderr",
     "output_type": "stream",
     "text": [
      "/home/eslab/anaconda3/envs/pytorch_p38/lib/python3.8/site-packages/torch/nn/functional.py:718: UserWarning: Named tensors and all their associated APIs are an experimental feature and subject to change. Please do not use them for anything important until they are released as stable. (Triggered internally at  /pytorch/c10/core/TensorImpl.h:1156.)\n",
      "  return torch.max_pool2d(input, kernel_size, stride, padding, dilation, ceil_mode)\n"
     ]
    }
   ],
   "source": [
    "model = resnet18(pretrained=True)\n",
    "summary(model.cuda(),(3,224,224))"
   ]
  },
  {
   "cell_type": "code",
   "execution_count": 13,
   "metadata": {},
   "outputs": [],
   "source": [
    "in_features = model.fc.in_features\n",
    "# for key,value in model.\n",
    "model.fc = nn.Linear(in_features,class_num)"
   ]
  },
  {
   "cell_type": "code",
   "execution_count": 14,
   "metadata": {},
   "outputs": [
    {
     "name": "stdout",
     "output_type": "stream",
     "text": [
      "----------------------------------------------------------------\n",
      "        Layer (type)               Output Shape         Param #\n",
      "================================================================\n",
      "            Conv2d-1         [-1, 64, 112, 112]           9,408\n",
      "       BatchNorm2d-2         [-1, 64, 112, 112]             128\n",
      "              ReLU-3         [-1, 64, 112, 112]               0\n",
      "         MaxPool2d-4           [-1, 64, 56, 56]               0\n",
      "            Conv2d-5           [-1, 64, 56, 56]          36,864\n",
      "       BatchNorm2d-6           [-1, 64, 56, 56]             128\n",
      "              ReLU-7           [-1, 64, 56, 56]               0\n",
      "            Conv2d-8           [-1, 64, 56, 56]          36,864\n",
      "       BatchNorm2d-9           [-1, 64, 56, 56]             128\n",
      "             ReLU-10           [-1, 64, 56, 56]               0\n",
      "       BasicBlock-11           [-1, 64, 56, 56]               0\n",
      "           Conv2d-12           [-1, 64, 56, 56]          36,864\n",
      "      BatchNorm2d-13           [-1, 64, 56, 56]             128\n",
      "             ReLU-14           [-1, 64, 56, 56]               0\n",
      "           Conv2d-15           [-1, 64, 56, 56]          36,864\n",
      "      BatchNorm2d-16           [-1, 64, 56, 56]             128\n",
      "             ReLU-17           [-1, 64, 56, 56]               0\n",
      "       BasicBlock-18           [-1, 64, 56, 56]               0\n",
      "           Conv2d-19          [-1, 128, 28, 28]          73,728\n",
      "      BatchNorm2d-20          [-1, 128, 28, 28]             256\n",
      "             ReLU-21          [-1, 128, 28, 28]               0\n",
      "           Conv2d-22          [-1, 128, 28, 28]         147,456\n",
      "      BatchNorm2d-23          [-1, 128, 28, 28]             256\n",
      "           Conv2d-24          [-1, 128, 28, 28]           8,192\n",
      "      BatchNorm2d-25          [-1, 128, 28, 28]             256\n",
      "             ReLU-26          [-1, 128, 28, 28]               0\n",
      "       BasicBlock-27          [-1, 128, 28, 28]               0\n",
      "           Conv2d-28          [-1, 128, 28, 28]         147,456\n",
      "      BatchNorm2d-29          [-1, 128, 28, 28]             256\n",
      "             ReLU-30          [-1, 128, 28, 28]               0\n",
      "           Conv2d-31          [-1, 128, 28, 28]         147,456\n",
      "      BatchNorm2d-32          [-1, 128, 28, 28]             256\n",
      "             ReLU-33          [-1, 128, 28, 28]               0\n",
      "       BasicBlock-34          [-1, 128, 28, 28]               0\n",
      "           Conv2d-35          [-1, 256, 14, 14]         294,912\n",
      "      BatchNorm2d-36          [-1, 256, 14, 14]             512\n",
      "             ReLU-37          [-1, 256, 14, 14]               0\n",
      "           Conv2d-38          [-1, 256, 14, 14]         589,824\n",
      "      BatchNorm2d-39          [-1, 256, 14, 14]             512\n",
      "           Conv2d-40          [-1, 256, 14, 14]          32,768\n",
      "      BatchNorm2d-41          [-1, 256, 14, 14]             512\n",
      "             ReLU-42          [-1, 256, 14, 14]               0\n",
      "       BasicBlock-43          [-1, 256, 14, 14]               0\n",
      "           Conv2d-44          [-1, 256, 14, 14]         589,824\n",
      "      BatchNorm2d-45          [-1, 256, 14, 14]             512\n",
      "             ReLU-46          [-1, 256, 14, 14]               0\n",
      "           Conv2d-47          [-1, 256, 14, 14]         589,824\n",
      "      BatchNorm2d-48          [-1, 256, 14, 14]             512\n",
      "             ReLU-49          [-1, 256, 14, 14]               0\n",
      "       BasicBlock-50          [-1, 256, 14, 14]               0\n",
      "           Conv2d-51            [-1, 512, 7, 7]       1,179,648\n",
      "      BatchNorm2d-52            [-1, 512, 7, 7]           1,024\n",
      "             ReLU-53            [-1, 512, 7, 7]               0\n",
      "           Conv2d-54            [-1, 512, 7, 7]       2,359,296\n",
      "      BatchNorm2d-55            [-1, 512, 7, 7]           1,024\n",
      "           Conv2d-56            [-1, 512, 7, 7]         131,072\n",
      "      BatchNorm2d-57            [-1, 512, 7, 7]           1,024\n",
      "             ReLU-58            [-1, 512, 7, 7]               0\n",
      "       BasicBlock-59            [-1, 512, 7, 7]               0\n",
      "           Conv2d-60            [-1, 512, 7, 7]       2,359,296\n",
      "      BatchNorm2d-61            [-1, 512, 7, 7]           1,024\n",
      "             ReLU-62            [-1, 512, 7, 7]               0\n",
      "           Conv2d-63            [-1, 512, 7, 7]       2,359,296\n",
      "      BatchNorm2d-64            [-1, 512, 7, 7]           1,024\n",
      "             ReLU-65            [-1, 512, 7, 7]               0\n",
      "       BasicBlock-66            [-1, 512, 7, 7]               0\n",
      "AdaptiveAvgPool2d-67            [-1, 512, 1, 1]               0\n",
      "           Linear-68                   [-1, 65]          33,345\n",
      "================================================================\n",
      "Total params: 11,209,857\n",
      "Trainable params: 11,209,857\n",
      "Non-trainable params: 0\n",
      "----------------------------------------------------------------\n",
      "Input size (MB): 0.57\n",
      "Forward/backward pass size (MB): 62.79\n",
      "Params size (MB): 42.76\n",
      "Estimated Total Size (MB): 106.12\n",
      "----------------------------------------------------------------\n"
     ]
    }
   ],
   "source": [
    "summary(model.cuda(),(3,224,224))"
   ]
  },
  {
   "cell_type": "code",
   "execution_count": 15,
   "metadata": {},
   "outputs": [
    {
     "name": "stdout",
     "output_type": "stream",
     "text": [
      "can use CUDA!!!\n"
     ]
    }
   ],
   "source": [
    "if cuda:\n",
    "        print('can use CUDA!!!')\n",
    "        model = model.to(device)"
   ]
  },
  {
   "cell_type": "code",
   "execution_count": 16,
   "metadata": {},
   "outputs": [
    {
     "name": "stdout",
     "output_type": "stream",
     "text": [
      "Multi GPU Activation !!! 4\n"
     ]
    }
   ],
   "source": [
    "if torch.cuda.device_count() > 1:\n",
    "    print('Multi GPU Activation !!!', torch.cuda.device_count())\n",
    "    model = nn.DataParallel(model,device_ids=gpu_num)\n",
    "else:\n",
    "    print('Single GPU')"
   ]
  },
  {
   "cell_type": "code",
   "execution_count": 17,
   "metadata": {},
   "outputs": [],
   "source": [
    "\n",
    "loss_fn = nn.CrossEntropyLoss().to(device)\n",
    "optimizer = torch.optim.SGD([{'params': model.parameters()}], lr=learning_rate, momentum=0.9)"
   ]
  },
  {
   "cell_type": "code",
   "execution_count": 18,
   "metadata": {},
   "outputs": [],
   "source": [
    "scheduler = torch.optim.lr_scheduler.CosineAnnealingLR(optimizer, epochs)"
   ]
  },
  {
   "cell_type": "code",
   "execution_count": 19,
   "metadata": {},
   "outputs": [
    {
     "name": "stdout",
     "output_type": "stream",
     "text": [
      "classification_lr : 0.010000\n"
     ]
    },
    {
     "name": "stderr",
     "output_type": "stream",
     "text": [
      "Train: 100%|██████████| 36/36 [00:25<00:00,  1.44batch/s, accuracy=20.3, loss=3.45]\n",
      "/home/eslab/anaconda3/envs/pytorch_p38/lib/python3.8/site-packages/torch/optim/lr_scheduler.py:154: UserWarning: The epoch parameter in `scheduler.step()` was not necessary and is being deprecated where possible. Please use `scheduler.step()` to step the scheduler. During the deprecation, if epoch is different from None, the closed form is used instead of the new chainable form, where available. Please open an issue if you are unable to replicate your use case: https://github.com/pytorch/pytorch/issues/new/choose.\n",
      "  warnings.warn(EPOCH_DEPRECATION_WARNING, UserWarning)\n"
     ]
    },
    {
     "name": "stdout",
     "output_type": "stream",
     "text": [
      "train dataset : 1/100 epochs spend time : 25.0644 sec / total_loss : 3.5483 correct : 1857/9155 -> 20.2840%\n"
     ]
    },
    {
     "name": "stderr",
     "output_type": "stream",
     "text": [
      "Validation: 100%|██████████| 5/5 [00:03<00:00,  1.44batch/s, accuracy=45.7, loss=1.99]\n"
     ]
    },
    {
     "name": "stdout",
     "output_type": "stream",
     "text": [
      "val dataset : 1/100 epochs spend time : 3.4771 sec  / total_loss : 2.4936 correct : 474/1038 -> 45.6647%\n",
      "classification_lr : 0.010000\n"
     ]
    },
    {
     "name": "stderr",
     "output_type": "stream",
     "text": [
      "Train: 100%|██████████| 36/36 [00:09<00:00,  3.63batch/s, accuracy=48.2, loss=2.11]\n"
     ]
    },
    {
     "name": "stdout",
     "output_type": "stream",
     "text": [
      "train dataset : 2/100 epochs spend time : 9.9250 sec / total_loss : 2.1739 correct : 4413/9155 -> 48.2032%\n"
     ]
    },
    {
     "name": "stderr",
     "output_type": "stream",
     "text": [
      "Validation: 100%|██████████| 5/5 [00:03<00:00,  1.44batch/s, accuracy=57.4, loss=1.49]\n"
     ]
    },
    {
     "name": "stdout",
     "output_type": "stream",
     "text": [
      "val dataset : 2/100 epochs spend time : 3.4713 sec  / total_loss : 1.8565 correct : 596/1038 -> 57.4181%\n",
      "classification_lr : 0.009998\n"
     ]
    },
    {
     "name": "stderr",
     "output_type": "stream",
     "text": [
      "Train: 100%|██████████| 36/36 [00:10<00:00,  3.59batch/s, accuracy=56.2, loss=1.73]\n"
     ]
    },
    {
     "name": "stdout",
     "output_type": "stream",
     "text": [
      "train dataset : 3/100 epochs spend time : 10.0299 sec / total_loss : 1.7798 correct : 5149/9155 -> 56.2425%\n"
     ]
    },
    {
     "name": "stderr",
     "output_type": "stream",
     "text": [
      "Validation: 100%|██████████| 5/5 [00:03<00:00,  1.45batch/s, accuracy=60.9, loss=1.37]\n"
     ]
    },
    {
     "name": "stdout",
     "output_type": "stream",
     "text": [
      "val dataset : 3/100 epochs spend time : 3.4654 sec  / total_loss : 1.7174 correct : 632/1038 -> 60.8863%\n",
      "classification_lr : 0.009990\n"
     ]
    },
    {
     "name": "stderr",
     "output_type": "stream",
     "text": [
      "Train: 100%|██████████| 36/36 [00:09<00:00,  3.63batch/s, accuracy=60.5, loss=1.53]\n"
     ]
    },
    {
     "name": "stdout",
     "output_type": "stream",
     "text": [
      "train dataset : 4/100 epochs spend time : 9.9345 sec / total_loss : 1.5783 correct : 5535/9155 -> 60.4588%\n"
     ]
    },
    {
     "name": "stderr",
     "output_type": "stream",
     "text": [
      "Validation: 100%|██████████| 5/5 [00:03<00:00,  1.43batch/s, accuracy=62.7, loss=1.26]\n"
     ]
    },
    {
     "name": "stdout",
     "output_type": "stream",
     "text": [
      "val dataset : 4/100 epochs spend time : 3.5133 sec  / total_loss : 1.5765 correct : 651/1038 -> 62.7168%\n",
      "classification_lr : 0.009978\n"
     ]
    },
    {
     "name": "stderr",
     "output_type": "stream",
     "text": [
      "Train: 100%|██████████| 36/36 [00:09<00:00,  3.61batch/s, accuracy=63.5, loss=1.41]\n"
     ]
    },
    {
     "name": "stdout",
     "output_type": "stream",
     "text": [
      "train dataset : 5/100 epochs spend time : 9.9837 sec / total_loss : 1.4493 correct : 5812/9155 -> 63.4844%\n"
     ]
    },
    {
     "name": "stderr",
     "output_type": "stream",
     "text": [
      "Validation: 100%|██████████| 5/5 [00:03<00:00,  1.42batch/s, accuracy=65.7, loss=1.22]\n"
     ]
    },
    {
     "name": "stdout",
     "output_type": "stream",
     "text": [
      "val dataset : 5/100 epochs spend time : 3.5136 sec  / total_loss : 1.5304 correct : 682/1038 -> 65.7033%\n",
      "classification_lr : 0.009961\n"
     ]
    },
    {
     "name": "stderr",
     "output_type": "stream",
     "text": [
      "Train: 100%|██████████| 36/36 [00:10<00:00,  3.57batch/s, accuracy=67.2, loss=1.27]\n"
     ]
    },
    {
     "name": "stdout",
     "output_type": "stream",
     "text": [
      "train dataset : 6/100 epochs spend time : 10.1013 sec / total_loss : 1.3065 correct : 6155/9155 -> 67.2310%\n"
     ]
    },
    {
     "name": "stderr",
     "output_type": "stream",
     "text": [
      "Validation: 100%|██████████| 5/5 [00:03<00:00,  1.43batch/s, accuracy=68.4, loss=1.08]\n"
     ]
    },
    {
     "name": "stdout",
     "output_type": "stream",
     "text": [
      "val dataset : 6/100 epochs spend time : 3.5083 sec  / total_loss : 1.3484 correct : 710/1038 -> 68.4008%\n",
      "classification_lr : 0.009938\n"
     ]
    },
    {
     "name": "stderr",
     "output_type": "stream",
     "text": [
      "Train: 100%|██████████| 36/36 [00:10<00:00,  3.57batch/s, accuracy=69.2, loss=1.18]\n"
     ]
    },
    {
     "name": "stdout",
     "output_type": "stream",
     "text": [
      "train dataset : 7/100 epochs spend time : 10.0924 sec / total_loss : 1.2173 correct : 6331/9155 -> 69.1535%\n"
     ]
    },
    {
     "name": "stderr",
     "output_type": "stream",
     "text": [
      "Validation: 100%|██████████| 5/5 [00:03<00:00,  1.43batch/s, accuracy=68.3, loss=1.18]\n"
     ]
    },
    {
     "name": "stdout",
     "output_type": "stream",
     "text": [
      "val dataset : 7/100 epochs spend time : 3.4966 sec  / total_loss : 1.4765 correct : 709/1038 -> 68.3044%\n",
      "classification_lr : 0.009911\n"
     ]
    },
    {
     "name": "stderr",
     "output_type": "stream",
     "text": [
      "Train: 100%|██████████| 36/36 [00:09<00:00,  3.64batch/s, accuracy=70.7, loss=1.13]\n"
     ]
    },
    {
     "name": "stdout",
     "output_type": "stream",
     "text": [
      "train dataset : 8/100 epochs spend time : 9.9170 sec / total_loss : 1.1615 correct : 6472/9155 -> 70.6936%\n"
     ]
    },
    {
     "name": "stderr",
     "output_type": "stream",
     "text": [
      "Validation: 100%|██████████| 5/5 [00:03<00:00,  1.42batch/s, accuracy=67.8, loss=1.06]\n"
     ]
    },
    {
     "name": "stdout",
     "output_type": "stream",
     "text": [
      "val dataset : 8/100 epochs spend time : 3.5294 sec  / total_loss : 1.3262 correct : 704/1038 -> 67.8227%\n",
      "classification_lr : 0.009880\n"
     ]
    },
    {
     "name": "stderr",
     "output_type": "stream",
     "text": [
      "Train: 100%|██████████| 36/36 [00:09<00:00,  3.61batch/s, accuracy=72.9, loss=1.05]\n"
     ]
    },
    {
     "name": "stdout",
     "output_type": "stream",
     "text": [
      "train dataset : 9/100 epochs spend time : 9.9801 sec / total_loss : 1.0771 correct : 6678/9155 -> 72.9437%\n"
     ]
    },
    {
     "name": "stderr",
     "output_type": "stream",
     "text": [
      "Validation: 100%|██████████| 5/5 [00:03<00:00,  1.44batch/s, accuracy=66.6, loss=1.12]\n"
     ]
    },
    {
     "name": "stdout",
     "output_type": "stream",
     "text": [
      "val dataset : 9/100 epochs spend time : 3.4758 sec  / total_loss : 1.3951 correct : 691/1038 -> 66.5703%\n",
      "classification_lr : 0.009843\n"
     ]
    },
    {
     "name": "stderr",
     "output_type": "stream",
     "text": [
      "Train: 100%|██████████| 36/36 [00:10<00:00,  3.59batch/s, accuracy=73.6, loss=1.01]\n"
     ]
    },
    {
     "name": "stdout",
     "output_type": "stream",
     "text": [
      "train dataset : 10/100 epochs spend time : 10.0637 sec / total_loss : 1.0434 correct : 6737/9155 -> 73.5882%\n"
     ]
    },
    {
     "name": "stderr",
     "output_type": "stream",
     "text": [
      "Validation: 100%|██████████| 5/5 [00:03<00:00,  1.43batch/s, accuracy=69.2, loss=1]   \n"
     ]
    },
    {
     "name": "stdout",
     "output_type": "stream",
     "text": [
      "val dataset : 10/100 epochs spend time : 3.4969 sec  / total_loss : 1.2532 correct : 718/1038 -> 69.1715%\n",
      "classification_lr : 0.009801\n"
     ]
    },
    {
     "name": "stderr",
     "output_type": "stream",
     "text": [
      "Train: 100%|██████████| 36/36 [00:09<00:00,  3.62batch/s, accuracy=75.6, loss=0.933]\n"
     ]
    },
    {
     "name": "stdout",
     "output_type": "stream",
     "text": [
      "train dataset : 11/100 epochs spend time : 9.9592 sec / total_loss : 0.9595 correct : 6925/9155 -> 75.6417%\n"
     ]
    },
    {
     "name": "stderr",
     "output_type": "stream",
     "text": [
      "Validation: 100%|██████████| 5/5 [00:03<00:00,  1.43batch/s, accuracy=68.7, loss=1.03]\n"
     ]
    },
    {
     "name": "stdout",
     "output_type": "stream",
     "text": [
      "val dataset : 11/100 epochs spend time : 3.4900 sec  / total_loss : 1.2902 correct : 713/1038 -> 68.6898%\n",
      "classification_lr : 0.009755\n"
     ]
    },
    {
     "name": "stderr",
     "output_type": "stream",
     "text": [
      "Train: 100%|██████████| 36/36 [00:09<00:00,  3.60batch/s, accuracy=75.5, loss=0.92] \n"
     ]
    },
    {
     "name": "stdout",
     "output_type": "stream",
     "text": [
      "train dataset : 12/100 epochs spend time : 10.0188 sec / total_loss : 0.9462 correct : 6911/9155 -> 75.4888%\n"
     ]
    },
    {
     "name": "stderr",
     "output_type": "stream",
     "text": [
      "Validation: 100%|██████████| 5/5 [00:03<00:00,  1.44batch/s, accuracy=69.7, loss=1.03]\n"
     ]
    },
    {
     "name": "stdout",
     "output_type": "stream",
     "text": [
      "val dataset : 12/100 epochs spend time : 3.4890 sec  / total_loss : 1.2825 correct : 723/1038 -> 69.6532%\n",
      "classification_lr : 0.009704\n"
     ]
    },
    {
     "name": "stderr",
     "output_type": "stream",
     "text": [
      "Train: 100%|██████████| 36/36 [00:10<00:00,  3.60batch/s, accuracy=76.5, loss=0.885]\n"
     ]
    },
    {
     "name": "stdout",
     "output_type": "stream",
     "text": [
      "train dataset : 13/100 epochs spend time : 10.0184 sec / total_loss : 0.9103 correct : 7000/9155 -> 76.4610%\n"
     ]
    },
    {
     "name": "stderr",
     "output_type": "stream",
     "text": [
      "Validation: 100%|██████████| 5/5 [00:03<00:00,  1.43batch/s, accuracy=69.5, loss=1.03]\n"
     ]
    },
    {
     "name": "stdout",
     "output_type": "stream",
     "text": [
      "val dataset : 13/100 epochs spend time : 3.5004 sec  / total_loss : 1.2830 correct : 721/1038 -> 69.4605%\n",
      "classification_lr : 0.009649\n"
     ]
    },
    {
     "name": "stderr",
     "output_type": "stream",
     "text": [
      "Train: 100%|██████████| 36/36 [00:10<00:00,  3.60batch/s, accuracy=77.6, loss=0.856]\n"
     ]
    },
    {
     "name": "stdout",
     "output_type": "stream",
     "text": [
      "train dataset : 14/100 epochs spend time : 10.0350 sec / total_loss : 0.8804 correct : 7100/9155 -> 77.5532%\n"
     ]
    },
    {
     "name": "stderr",
     "output_type": "stream",
     "text": [
      "Validation: 100%|██████████| 5/5 [00:03<00:00,  1.44batch/s, accuracy=68.4, loss=1.1] \n"
     ]
    },
    {
     "name": "stdout",
     "output_type": "stream",
     "text": [
      "val dataset : 14/100 epochs spend time : 3.4685 sec  / total_loss : 1.3701 correct : 710/1038 -> 68.4008%\n",
      "classification_lr : 0.009589\n"
     ]
    },
    {
     "name": "stderr",
     "output_type": "stream",
     "text": [
      "Train: 100%|██████████| 36/36 [00:09<00:00,  3.62batch/s, accuracy=78.7, loss=0.816]\n"
     ]
    },
    {
     "name": "stdout",
     "output_type": "stream",
     "text": [
      "train dataset : 15/100 epochs spend time : 9.9667 sec / total_loss : 0.8389 correct : 7201/9155 -> 78.6565%\n"
     ]
    },
    {
     "name": "stderr",
     "output_type": "stream",
     "text": [
      "Validation: 100%|██████████| 5/5 [00:03<00:00,  1.42batch/s, accuracy=69.5, loss=1.04]\n"
     ]
    },
    {
     "name": "stdout",
     "output_type": "stream",
     "text": [
      "val dataset : 15/100 epochs spend time : 3.5145 sec  / total_loss : 1.3051 correct : 721/1038 -> 69.4605%\n",
      "classification_lr : 0.009524\n"
     ]
    },
    {
     "name": "stderr",
     "output_type": "stream",
     "text": [
      "Train: 100%|██████████| 36/36 [00:10<00:00,  3.59batch/s, accuracy=78.7, loss=0.8]  \n"
     ]
    },
    {
     "name": "stdout",
     "output_type": "stream",
     "text": [
      "train dataset : 16/100 epochs spend time : 10.0599 sec / total_loss : 0.8233 correct : 7201/9155 -> 78.6565%\n"
     ]
    },
    {
     "name": "stderr",
     "output_type": "stream",
     "text": [
      "Validation: 100%|██████████| 5/5 [00:03<00:00,  1.42batch/s, accuracy=70.1, loss=1.02]\n"
     ]
    },
    {
     "name": "stdout",
     "output_type": "stream",
     "text": [
      "val dataset : 16/100 epochs spend time : 3.5349 sec  / total_loss : 1.2763 correct : 728/1038 -> 70.1349%\n",
      "classification_lr : 0.009455\n"
     ]
    },
    {
     "name": "stderr",
     "output_type": "stream",
     "text": [
      "Train: 100%|██████████| 36/36 [00:10<00:00,  3.59batch/s, accuracy=78.8, loss=0.793]\n"
     ]
    },
    {
     "name": "stdout",
     "output_type": "stream",
     "text": [
      "train dataset : 17/100 epochs spend time : 10.0475 sec / total_loss : 0.8153 correct : 7212/9155 -> 78.7766%\n"
     ]
    },
    {
     "name": "stderr",
     "output_type": "stream",
     "text": [
      "Validation: 100%|██████████| 5/5 [00:03<00:00,  1.43batch/s, accuracy=70.1, loss=1.04]\n"
     ]
    },
    {
     "name": "stdout",
     "output_type": "stream",
     "text": [
      "val dataset : 17/100 epochs spend time : 3.5124 sec  / total_loss : 1.3062 correct : 728/1038 -> 70.1349%\n",
      "classification_lr : 0.009382\n"
     ]
    },
    {
     "name": "stderr",
     "output_type": "stream",
     "text": [
      "Train: 100%|██████████| 36/36 [00:09<00:00,  3.65batch/s, accuracy=80.4, loss=0.737]\n"
     ]
    },
    {
     "name": "stdout",
     "output_type": "stream",
     "text": [
      "train dataset : 18/100 epochs spend time : 9.8895 sec / total_loss : 0.7584 correct : 7363/9155 -> 80.4260%\n"
     ]
    },
    {
     "name": "stderr",
     "output_type": "stream",
     "text": [
      "Validation: 100%|██████████| 5/5 [00:03<00:00,  1.44batch/s, accuracy=70.9, loss=1.06]\n"
     ]
    },
    {
     "name": "stdout",
     "output_type": "stream",
     "text": [
      "val dataset : 18/100 epochs spend time : 3.4843 sec  / total_loss : 1.3311 correct : 736/1038 -> 70.9056%\n",
      "classification_lr : 0.009304\n"
     ]
    },
    {
     "name": "stderr",
     "output_type": "stream",
     "text": [
      "Train: 100%|██████████| 36/36 [00:10<00:00,  3.54batch/s, accuracy=80.8, loss=0.719]\n"
     ]
    },
    {
     "name": "stdout",
     "output_type": "stream",
     "text": [
      "train dataset : 19/100 epochs spend time : 10.1866 sec / total_loss : 0.7395 correct : 7395/9155 -> 80.7755%\n"
     ]
    },
    {
     "name": "stderr",
     "output_type": "stream",
     "text": [
      "Validation: 100%|██████████| 5/5 [00:03<00:00,  1.42batch/s, accuracy=70.1, loss=1.04]\n"
     ]
    },
    {
     "name": "stdout",
     "output_type": "stream",
     "text": [
      "val dataset : 19/100 epochs spend time : 3.5301 sec  / total_loss : 1.2955 correct : 728/1038 -> 70.1349%\n",
      "classification_lr : 0.009222\n"
     ]
    },
    {
     "name": "stderr",
     "output_type": "stream",
     "text": [
      "Train: 100%|██████████| 36/36 [00:09<00:00,  3.63batch/s, accuracy=81.9, loss=0.676]\n"
     ]
    },
    {
     "name": "stdout",
     "output_type": "stream",
     "text": [
      "train dataset : 20/100 epochs spend time : 9.9349 sec / total_loss : 0.6952 correct : 7495/9155 -> 81.8678%\n"
     ]
    },
    {
     "name": "stderr",
     "output_type": "stream",
     "text": [
      "Validation: 100%|██████████| 5/5 [00:03<00:00,  1.43batch/s, accuracy=71.4, loss=1.02]\n"
     ]
    },
    {
     "name": "stdout",
     "output_type": "stream",
     "text": [
      "val dataset : 20/100 epochs spend time : 3.4910 sec  / total_loss : 1.2778 correct : 741/1038 -> 71.3873%\n",
      "classification_lr : 0.009135\n"
     ]
    },
    {
     "name": "stderr",
     "output_type": "stream",
     "text": [
      "Train: 100%|██████████| 36/36 [00:09<00:00,  3.64batch/s, accuracy=82.4, loss=0.672]\n"
     ]
    },
    {
     "name": "stdout",
     "output_type": "stream",
     "text": [
      "train dataset : 21/100 epochs spend time : 9.9103 sec / total_loss : 0.6911 correct : 7540/9155 -> 82.3594%\n"
     ]
    },
    {
     "name": "stderr",
     "output_type": "stream",
     "text": [
      "Validation: 100%|██████████| 5/5 [00:03<00:00,  1.44batch/s, accuracy=70.2, loss=1.07]\n"
     ]
    },
    {
     "name": "stdout",
     "output_type": "stream",
     "text": [
      "val dataset : 21/100 epochs spend time : 3.4877 sec  / total_loss : 1.3327 correct : 729/1038 -> 70.2312%\n",
      "classification_lr : 0.009045\n"
     ]
    },
    {
     "name": "stderr",
     "output_type": "stream",
     "text": [
      "Train: 100%|██████████| 36/36 [00:10<00:00,  3.57batch/s, accuracy=82.2, loss=0.656]\n"
     ]
    },
    {
     "name": "stdout",
     "output_type": "stream",
     "text": [
      "train dataset : 22/100 epochs spend time : 10.0865 sec / total_loss : 0.6745 correct : 7521/9155 -> 82.1518%\n"
     ]
    },
    {
     "name": "stderr",
     "output_type": "stream",
     "text": [
      "Validation: 100%|██████████| 5/5 [00:03<00:00,  1.43batch/s, accuracy=71.4, loss=1.15]\n"
     ]
    },
    {
     "name": "stdout",
     "output_type": "stream",
     "text": [
      "val dataset : 22/100 epochs spend time : 3.4974 sec  / total_loss : 1.4320 correct : 741/1038 -> 71.3873%\n",
      "classification_lr : 0.008951\n"
     ]
    },
    {
     "name": "stderr",
     "output_type": "stream",
     "text": [
      "Train: 100%|██████████| 36/36 [00:09<00:00,  3.62batch/s, accuracy=83.4, loss=0.624]\n"
     ]
    },
    {
     "name": "stdout",
     "output_type": "stream",
     "text": [
      "train dataset : 23/100 epochs spend time : 9.9515 sec / total_loss : 0.6420 correct : 7634/9155 -> 83.3861%\n"
     ]
    },
    {
     "name": "stderr",
     "output_type": "stream",
     "text": [
      "Validation: 100%|██████████| 5/5 [00:03<00:00,  1.44batch/s, accuracy=72.4, loss=0.978]\n"
     ]
    },
    {
     "name": "stdout",
     "output_type": "stream",
     "text": [
      "val dataset : 23/100 epochs spend time : 3.4774 sec  / total_loss : 1.2226 correct : 751/1038 -> 72.3507%\n",
      "classification_lr : 0.008853\n"
     ]
    },
    {
     "name": "stderr",
     "output_type": "stream",
     "text": [
      "Train: 100%|██████████| 36/36 [00:09<00:00,  3.60batch/s, accuracy=83.2, loss=0.629]\n"
     ]
    },
    {
     "name": "stdout",
     "output_type": "stream",
     "text": [
      "train dataset : 24/100 epochs spend time : 10.0033 sec / total_loss : 0.6473 correct : 7615/9155 -> 83.1786%\n"
     ]
    },
    {
     "name": "stderr",
     "output_type": "stream",
     "text": [
      "Validation: 100%|██████████| 5/5 [00:03<00:00,  1.42batch/s, accuracy=71.6, loss=1.03]\n"
     ]
    },
    {
     "name": "stdout",
     "output_type": "stream",
     "text": [
      "val dataset : 24/100 epochs spend time : 3.5190 sec  / total_loss : 1.2876 correct : 743/1038 -> 71.5800%\n",
      "classification_lr : 0.008751\n"
     ]
    },
    {
     "name": "stderr",
     "output_type": "stream",
     "text": [
      "Train: 100%|██████████| 36/36 [00:10<00:00,  3.58batch/s, accuracy=84.2, loss=0.593]\n"
     ]
    },
    {
     "name": "stdout",
     "output_type": "stream",
     "text": [
      "train dataset : 25/100 epochs spend time : 10.0583 sec / total_loss : 0.6104 correct : 7712/9155 -> 84.2381%\n"
     ]
    },
    {
     "name": "stderr",
     "output_type": "stream",
     "text": [
      "Validation: 100%|██████████| 5/5 [00:03<00:00,  1.43batch/s, accuracy=72.3, loss=1.03]\n"
     ]
    },
    {
     "name": "stdout",
     "output_type": "stream",
     "text": [
      "val dataset : 25/100 epochs spend time : 3.4919 sec  / total_loss : 1.2888 correct : 750/1038 -> 72.2543%\n",
      "classification_lr : 0.008645\n"
     ]
    },
    {
     "name": "stderr",
     "output_type": "stream",
     "text": [
      "Train: 100%|██████████| 36/36 [00:09<00:00,  3.61batch/s, accuracy=84.3, loss=0.584]\n"
     ]
    },
    {
     "name": "stdout",
     "output_type": "stream",
     "text": [
      "train dataset : 26/100 epochs spend time : 9.9833 sec / total_loss : 0.6008 correct : 7718/9155 -> 84.3037%\n"
     ]
    },
    {
     "name": "stderr",
     "output_type": "stream",
     "text": [
      "Validation: 100%|██████████| 5/5 [00:03<00:00,  1.43batch/s, accuracy=71.2, loss=1.1] \n"
     ]
    },
    {
     "name": "stdout",
     "output_type": "stream",
     "text": [
      "val dataset : 26/100 epochs spend time : 3.4945 sec  / total_loss : 1.3712 correct : 739/1038 -> 71.1946%\n",
      "classification_lr : 0.008536\n"
     ]
    },
    {
     "name": "stderr",
     "output_type": "stream",
     "text": [
      "Train: 100%|██████████| 36/36 [00:10<00:00,  3.58batch/s, accuracy=84.7, loss=0.559]\n"
     ]
    },
    {
     "name": "stdout",
     "output_type": "stream",
     "text": [
      "train dataset : 27/100 epochs spend time : 10.0573 sec / total_loss : 0.5746 correct : 7755/9155 -> 84.7078%\n"
     ]
    },
    {
     "name": "stderr",
     "output_type": "stream",
     "text": [
      "Validation: 100%|██████████| 5/5 [00:03<00:00,  1.43batch/s, accuracy=72.7, loss=1.09]\n"
     ]
    },
    {
     "name": "stdout",
     "output_type": "stream",
     "text": [
      "val dataset : 27/100 epochs spend time : 3.4981 sec  / total_loss : 1.3568 correct : 755/1038 -> 72.7360%\n",
      "classification_lr : 0.008423\n"
     ]
    },
    {
     "name": "stderr",
     "output_type": "stream",
     "text": [
      "Train: 100%|██████████| 36/36 [00:09<00:00,  3.61batch/s, accuracy=85.3, loss=0.547]\n"
     ]
    },
    {
     "name": "stdout",
     "output_type": "stream",
     "text": [
      "train dataset : 28/100 epochs spend time : 9.9977 sec / total_loss : 0.5623 correct : 7808/9155 -> 85.2867%\n"
     ]
    },
    {
     "name": "stderr",
     "output_type": "stream",
     "text": [
      "Validation: 100%|██████████| 5/5 [00:03<00:00,  1.44batch/s, accuracy=72.5, loss=1.05]\n"
     ]
    },
    {
     "name": "stdout",
     "output_type": "stream",
     "text": [
      "val dataset : 28/100 epochs spend time : 3.4814 sec  / total_loss : 1.3121 correct : 753/1038 -> 72.5434%\n",
      "classification_lr : 0.008307\n"
     ]
    },
    {
     "name": "stderr",
     "output_type": "stream",
     "text": [
      "Train: 100%|██████████| 36/36 [00:09<00:00,  3.62batch/s, accuracy=85.1, loss=0.547]\n"
     ]
    },
    {
     "name": "stdout",
     "output_type": "stream",
     "text": [
      "train dataset : 29/100 epochs spend time : 9.9491 sec / total_loss : 0.5624 correct : 7790/9155 -> 85.0901%\n"
     ]
    },
    {
     "name": "stderr",
     "output_type": "stream",
     "text": [
      "Validation: 100%|██████████| 5/5 [00:03<00:00,  1.44batch/s, accuracy=72.4, loss=0.994]\n"
     ]
    },
    {
     "name": "stdout",
     "output_type": "stream",
     "text": [
      "val dataset : 29/100 epochs spend time : 3.4775 sec  / total_loss : 1.2420 correct : 751/1038 -> 72.3507%\n",
      "classification_lr : 0.008187\n"
     ]
    },
    {
     "name": "stderr",
     "output_type": "stream",
     "text": [
      "Train: 100%|██████████| 36/36 [00:09<00:00,  3.65batch/s, accuracy=86.1, loss=0.528]\n"
     ]
    },
    {
     "name": "stdout",
     "output_type": "stream",
     "text": [
      "train dataset : 30/100 epochs spend time : 9.8916 sec / total_loss : 0.5434 correct : 7884/9155 -> 86.1169%\n"
     ]
    },
    {
     "name": "stderr",
     "output_type": "stream",
     "text": [
      "Validation: 100%|██████████| 5/5 [00:03<00:00,  1.42batch/s, accuracy=72.1, loss=0.975]\n"
     ]
    },
    {
     "name": "stdout",
     "output_type": "stream",
     "text": [
      "val dataset : 30/100 epochs spend time : 3.5286 sec  / total_loss : 1.2190 correct : 748/1038 -> 72.0617%\n",
      "classification_lr : 0.008065\n"
     ]
    },
    {
     "name": "stderr",
     "output_type": "stream",
     "text": [
      "Train: 100%|██████████| 36/36 [00:09<00:00,  3.60batch/s, accuracy=86.3, loss=0.507]\n"
     ]
    },
    {
     "name": "stdout",
     "output_type": "stream",
     "text": [
      "train dataset : 31/100 epochs spend time : 10.0112 sec / total_loss : 0.5217 correct : 7900/9155 -> 86.2916%\n"
     ]
    },
    {
     "name": "stderr",
     "output_type": "stream",
     "text": [
      "Validation: 100%|██████████| 5/5 [00:03<00:00,  1.44batch/s, accuracy=74.4, loss=0.991]\n"
     ]
    },
    {
     "name": "stdout",
     "output_type": "stream",
     "text": [
      "val dataset : 31/100 epochs spend time : 3.4776 sec  / total_loss : 1.2393 correct : 772/1038 -> 74.3738%\n",
      "classification_lr : 0.007939\n"
     ]
    },
    {
     "name": "stderr",
     "output_type": "stream",
     "text": [
      "Train: 100%|██████████| 36/36 [00:10<00:00,  3.59batch/s, accuracy=86.7, loss=0.506]\n"
     ]
    },
    {
     "name": "stdout",
     "output_type": "stream",
     "text": [
      "train dataset : 32/100 epochs spend time : 10.0338 sec / total_loss : 0.5201 correct : 7939/9155 -> 86.7176%\n"
     ]
    },
    {
     "name": "stderr",
     "output_type": "stream",
     "text": [
      "Validation: 100%|██████████| 5/5 [00:03<00:00,  1.44batch/s, accuracy=73.2, loss=1.03]\n"
     ]
    },
    {
     "name": "stdout",
     "output_type": "stream",
     "text": [
      "val dataset : 32/100 epochs spend time : 3.4707 sec  / total_loss : 1.2928 correct : 760/1038 -> 73.2177%\n",
      "classification_lr : 0.007810\n"
     ]
    },
    {
     "name": "stderr",
     "output_type": "stream",
     "text": [
      "Train: 100%|██████████| 36/36 [00:09<00:00,  3.62batch/s, accuracy=87, loss=0.49]   \n"
     ]
    },
    {
     "name": "stdout",
     "output_type": "stream",
     "text": [
      "train dataset : 33/100 epochs spend time : 9.9715 sec / total_loss : 0.5042 correct : 7964/9155 -> 86.9907%\n"
     ]
    },
    {
     "name": "stderr",
     "output_type": "stream",
     "text": [
      "Validation: 100%|██████████| 5/5 [00:03<00:00,  1.42batch/s, accuracy=72.6, loss=1.02]\n"
     ]
    },
    {
     "name": "stdout",
     "output_type": "stream",
     "text": [
      "val dataset : 33/100 epochs spend time : 3.5210 sec  / total_loss : 1.2798 correct : 754/1038 -> 72.6397%\n",
      "classification_lr : 0.007679\n"
     ]
    },
    {
     "name": "stderr",
     "output_type": "stream",
     "text": [
      "Train: 100%|██████████| 36/36 [00:10<00:00,  3.57batch/s, accuracy=86.9, loss=0.493]\n"
     ]
    },
    {
     "name": "stdout",
     "output_type": "stream",
     "text": [
      "train dataset : 34/100 epochs spend time : 10.1079 sec / total_loss : 0.5068 correct : 7959/9155 -> 86.9361%\n"
     ]
    },
    {
     "name": "stderr",
     "output_type": "stream",
     "text": [
      "Validation: 100%|██████████| 5/5 [00:03<00:00,  1.43batch/s, accuracy=72.6, loss=1.11]\n"
     ]
    },
    {
     "name": "stdout",
     "output_type": "stream",
     "text": [
      "val dataset : 34/100 epochs spend time : 3.5007 sec  / total_loss : 1.3853 correct : 754/1038 -> 72.6397%\n",
      "classification_lr : 0.007545\n"
     ]
    },
    {
     "name": "stderr",
     "output_type": "stream",
     "text": [
      "Train: 100%|██████████| 36/36 [00:10<00:00,  3.55batch/s, accuracy=86.6, loss=0.494]\n"
     ]
    },
    {
     "name": "stdout",
     "output_type": "stream",
     "text": [
      "train dataset : 35/100 epochs spend time : 10.1400 sec / total_loss : 0.5082 correct : 7932/9155 -> 86.6412%\n"
     ]
    },
    {
     "name": "stderr",
     "output_type": "stream",
     "text": [
      "Validation: 100%|██████████| 5/5 [00:03<00:00,  1.44batch/s, accuracy=72.3, loss=0.982]\n"
     ]
    },
    {
     "name": "stdout",
     "output_type": "stream",
     "text": [
      "val dataset : 35/100 epochs spend time : 3.4673 sec  / total_loss : 1.2277 correct : 750/1038 -> 72.2543%\n",
      "classification_lr : 0.007409\n"
     ]
    },
    {
     "name": "stderr",
     "output_type": "stream",
     "text": [
      "Train: 100%|██████████| 36/36 [00:09<00:00,  3.61batch/s, accuracy=87.6, loss=0.461]\n"
     ]
    },
    {
     "name": "stdout",
     "output_type": "stream",
     "text": [
      "train dataset : 36/100 epochs spend time : 9.9953 sec / total_loss : 0.4738 correct : 8018/9155 -> 87.5806%\n"
     ]
    },
    {
     "name": "stderr",
     "output_type": "stream",
     "text": [
      "Validation: 100%|██████████| 5/5 [00:03<00:00,  1.44batch/s, accuracy=72.9, loss=1.02]\n"
     ]
    },
    {
     "name": "stdout",
     "output_type": "stream",
     "text": [
      "val dataset : 36/100 epochs spend time : 3.4649 sec  / total_loss : 1.2771 correct : 757/1038 -> 72.9287%\n",
      "classification_lr : 0.007270\n"
     ]
    },
    {
     "name": "stderr",
     "output_type": "stream",
     "text": [
      "Train: 100%|██████████| 36/36 [00:10<00:00,  3.59batch/s, accuracy=88.4, loss=0.445]\n"
     ]
    },
    {
     "name": "stdout",
     "output_type": "stream",
     "text": [
      "train dataset : 37/100 epochs spend time : 10.0437 sec / total_loss : 0.4572 correct : 8091/9155 -> 88.3779%\n"
     ]
    },
    {
     "name": "stderr",
     "output_type": "stream",
     "text": [
      "Validation: 100%|██████████| 5/5 [00:03<00:00,  1.44batch/s, accuracy=74.5, loss=1.01]\n"
     ]
    },
    {
     "name": "stdout",
     "output_type": "stream",
     "text": [
      "val dataset : 37/100 epochs spend time : 3.4804 sec  / total_loss : 1.2586 correct : 773/1038 -> 74.4701%\n",
      "classification_lr : 0.007129\n"
     ]
    },
    {
     "name": "stderr",
     "output_type": "stream",
     "text": [
      "Train: 100%|██████████| 36/36 [00:09<00:00,  3.62batch/s, accuracy=87.6, loss=0.461]\n"
     ]
    },
    {
     "name": "stdout",
     "output_type": "stream",
     "text": [
      "train dataset : 38/100 epochs spend time : 9.9809 sec / total_loss : 0.4739 correct : 8016/9155 -> 87.5587%\n"
     ]
    },
    {
     "name": "stderr",
     "output_type": "stream",
     "text": [
      "Validation: 100%|██████████| 5/5 [00:03<00:00,  1.44batch/s, accuracy=72.6, loss=1.08]\n"
     ]
    },
    {
     "name": "stdout",
     "output_type": "stream",
     "text": [
      "val dataset : 38/100 epochs spend time : 3.4820 sec  / total_loss : 1.3486 correct : 754/1038 -> 72.6397%\n",
      "classification_lr : 0.006986\n"
     ]
    },
    {
     "name": "stderr",
     "output_type": "stream",
     "text": [
      "Train: 100%|██████████| 36/36 [00:10<00:00,  3.57batch/s, accuracy=87.8, loss=0.459]\n"
     ]
    },
    {
     "name": "stdout",
     "output_type": "stream",
     "text": [
      "train dataset : 39/100 epochs spend time : 10.0940 sec / total_loss : 0.4717 correct : 8041/9155 -> 87.8318%\n"
     ]
    },
    {
     "name": "stderr",
     "output_type": "stream",
     "text": [
      "Validation: 100%|██████████| 5/5 [00:03<00:00,  1.42batch/s, accuracy=73.2, loss=1.03]\n"
     ]
    },
    {
     "name": "stdout",
     "output_type": "stream",
     "text": [
      "val dataset : 39/100 epochs spend time : 3.5155 sec  / total_loss : 1.2902 correct : 760/1038 -> 73.2177%\n",
      "classification_lr : 0.006841\n"
     ]
    },
    {
     "name": "stderr",
     "output_type": "stream",
     "text": [
      "Train: 100%|██████████| 36/36 [00:09<00:00,  3.61batch/s, accuracy=88.3, loss=0.434]\n"
     ]
    },
    {
     "name": "stdout",
     "output_type": "stream",
     "text": [
      "train dataset : 40/100 epochs spend time : 9.9949 sec / total_loss : 0.4461 correct : 8080/9155 -> 88.2578%\n"
     ]
    },
    {
     "name": "stderr",
     "output_type": "stream",
     "text": [
      "Validation: 100%|██████████| 5/5 [00:03<00:00,  1.44batch/s, accuracy=72.8, loss=1.09]\n"
     ]
    },
    {
     "name": "stdout",
     "output_type": "stream",
     "text": [
      "val dataset : 40/100 epochs spend time : 3.4716 sec  / total_loss : 1.3638 correct : 756/1038 -> 72.8324%\n",
      "classification_lr : 0.006694\n"
     ]
    },
    {
     "name": "stderr",
     "output_type": "stream",
     "text": [
      "Train: 100%|██████████| 36/36 [00:10<00:00,  3.57batch/s, accuracy=88.9, loss=0.409]\n"
     ]
    },
    {
     "name": "stdout",
     "output_type": "stream",
     "text": [
      "train dataset : 41/100 epochs spend time : 10.1018 sec / total_loss : 0.4207 correct : 8137/9155 -> 88.8804%\n"
     ]
    },
    {
     "name": "stderr",
     "output_type": "stream",
     "text": [
      "Validation: 100%|██████████| 5/5 [00:03<00:00,  1.41batch/s, accuracy=73.3, loss=1.08]\n"
     ]
    },
    {
     "name": "stdout",
     "output_type": "stream",
     "text": [
      "val dataset : 41/100 epochs spend time : 3.5454 sec  / total_loss : 1.3492 correct : 761/1038 -> 73.3141%\n",
      "classification_lr : 0.006545\n"
     ]
    },
    {
     "name": "stderr",
     "output_type": "stream",
     "text": [
      "Train: 100%|██████████| 36/36 [00:09<00:00,  3.60batch/s, accuracy=88.7, loss=0.424]\n"
     ]
    },
    {
     "name": "stdout",
     "output_type": "stream",
     "text": [
      "train dataset : 42/100 epochs spend time : 10.0060 sec / total_loss : 0.4363 correct : 8123/9155 -> 88.7275%\n"
     ]
    },
    {
     "name": "stderr",
     "output_type": "stream",
     "text": [
      "Validation: 100%|██████████| 5/5 [00:03<00:00,  1.44batch/s, accuracy=73.7, loss=1.07]\n"
     ]
    },
    {
     "name": "stdout",
     "output_type": "stream",
     "text": [
      "val dataset : 42/100 epochs spend time : 3.4747 sec  / total_loss : 1.3391 correct : 765/1038 -> 73.6994%\n",
      "classification_lr : 0.006395\n"
     ]
    },
    {
     "name": "stderr",
     "output_type": "stream",
     "text": [
      "Train: 100%|██████████| 36/36 [00:10<00:00,  3.59batch/s, accuracy=89.2, loss=0.413]\n"
     ]
    },
    {
     "name": "stdout",
     "output_type": "stream",
     "text": [
      "train dataset : 43/100 epochs spend time : 10.0444 sec / total_loss : 0.4253 correct : 8169/9155 -> 89.2299%\n"
     ]
    },
    {
     "name": "stderr",
     "output_type": "stream",
     "text": [
      "Validation: 100%|██████████| 5/5 [00:03<00:00,  1.44batch/s, accuracy=72.9, loss=1.08]\n"
     ]
    },
    {
     "name": "stdout",
     "output_type": "stream",
     "text": [
      "val dataset : 43/100 epochs spend time : 3.4825 sec  / total_loss : 1.3535 correct : 757/1038 -> 72.9287%\n",
      "classification_lr : 0.006243\n"
     ]
    },
    {
     "name": "stderr",
     "output_type": "stream",
     "text": [
      "Train: 100%|██████████| 36/36 [00:10<00:00,  3.59batch/s, accuracy=88.9, loss=0.412]\n"
     ]
    },
    {
     "name": "stdout",
     "output_type": "stream",
     "text": [
      "train dataset : 44/100 epochs spend time : 10.0499 sec / total_loss : 0.4238 correct : 8139/9155 -> 88.9022%\n"
     ]
    },
    {
     "name": "stderr",
     "output_type": "stream",
     "text": [
      "Validation: 100%|██████████| 5/5 [00:03<00:00,  1.42batch/s, accuracy=74.6, loss=1.09]\n"
     ]
    },
    {
     "name": "stdout",
     "output_type": "stream",
     "text": [
      "val dataset : 44/100 epochs spend time : 3.5184 sec  / total_loss : 1.3578 correct : 774/1038 -> 74.5665%\n",
      "classification_lr : 0.006091\n"
     ]
    },
    {
     "name": "stderr",
     "output_type": "stream",
     "text": [
      "Train: 100%|██████████| 36/36 [00:09<00:00,  3.63batch/s, accuracy=90, loss=0.383]  \n"
     ]
    },
    {
     "name": "stdout",
     "output_type": "stream",
     "text": [
      "train dataset : 45/100 epochs spend time : 9.9206 sec / total_loss : 0.3943 correct : 8238/9155 -> 89.9836%\n"
     ]
    },
    {
     "name": "stderr",
     "output_type": "stream",
     "text": [
      "Validation: 100%|██████████| 5/5 [00:03<00:00,  1.45batch/s, accuracy=73.9, loss=1.05]\n"
     ]
    },
    {
     "name": "stdout",
     "output_type": "stream",
     "text": [
      "val dataset : 45/100 epochs spend time : 3.4486 sec  / total_loss : 1.3135 correct : 767/1038 -> 73.8921%\n",
      "classification_lr : 0.005937\n"
     ]
    },
    {
     "name": "stderr",
     "output_type": "stream",
     "text": [
      "Train: 100%|██████████| 36/36 [00:10<00:00,  3.56batch/s, accuracy=90.2, loss=0.373]\n"
     ]
    },
    {
     "name": "stdout",
     "output_type": "stream",
     "text": [
      "train dataset : 46/100 epochs spend time : 10.1287 sec / total_loss : 0.3841 correct : 8255/9155 -> 90.1693%\n"
     ]
    },
    {
     "name": "stderr",
     "output_type": "stream",
     "text": [
      "Validation: 100%|██████████| 5/5 [00:03<00:00,  1.43batch/s, accuracy=74, loss=1.04]  \n"
     ]
    },
    {
     "name": "stdout",
     "output_type": "stream",
     "text": [
      "val dataset : 46/100 epochs spend time : 3.5090 sec  / total_loss : 1.3013 correct : 768/1038 -> 73.9884%\n",
      "classification_lr : 0.005782\n"
     ]
    },
    {
     "name": "stderr",
     "output_type": "stream",
     "text": [
      "Train: 100%|██████████| 36/36 [00:09<00:00,  3.66batch/s, accuracy=90.5, loss=0.369]\n"
     ]
    },
    {
     "name": "stdout",
     "output_type": "stream",
     "text": [
      "train dataset : 47/100 epochs spend time : 9.8568 sec / total_loss : 0.3794 correct : 8281/9155 -> 90.4533%\n"
     ]
    },
    {
     "name": "stderr",
     "output_type": "stream",
     "text": [
      "Validation: 100%|██████████| 5/5 [00:03<00:00,  1.42batch/s, accuracy=74.7, loss=0.977]\n"
     ]
    },
    {
     "name": "stdout",
     "output_type": "stream",
     "text": [
      "val dataset : 47/100 epochs spend time : 3.5297 sec  / total_loss : 1.2212 correct : 775/1038 -> 74.6628%\n",
      "classification_lr : 0.005627\n"
     ]
    },
    {
     "name": "stderr",
     "output_type": "stream",
     "text": [
      "Train: 100%|██████████| 36/36 [00:10<00:00,  3.56batch/s, accuracy=90.1, loss=0.383]\n"
     ]
    },
    {
     "name": "stdout",
     "output_type": "stream",
     "text": [
      "train dataset : 48/100 epochs spend time : 10.1159 sec / total_loss : 0.3940 correct : 8248/9155 -> 90.0928%\n"
     ]
    },
    {
     "name": "stderr",
     "output_type": "stream",
     "text": [
      "Validation: 100%|██████████| 5/5 [00:03<00:00,  1.42batch/s, accuracy=73.7, loss=1.01]\n"
     ]
    },
    {
     "name": "stdout",
     "output_type": "stream",
     "text": [
      "val dataset : 48/100 epochs spend time : 3.5145 sec  / total_loss : 1.2620 correct : 765/1038 -> 73.6994%\n",
      "classification_lr : 0.005471\n"
     ]
    },
    {
     "name": "stderr",
     "output_type": "stream",
     "text": [
      "Train: 100%|██████████| 36/36 [00:09<00:00,  3.64batch/s, accuracy=90.1, loss=0.372]\n"
     ]
    },
    {
     "name": "stdout",
     "output_type": "stream",
     "text": [
      "train dataset : 49/100 epochs spend time : 9.8989 sec / total_loss : 0.3826 correct : 8246/9155 -> 90.0710%\n"
     ]
    },
    {
     "name": "stderr",
     "output_type": "stream",
     "text": [
      "Validation: 100%|██████████| 5/5 [00:03<00:00,  1.37batch/s, accuracy=73.8, loss=0.985]\n"
     ]
    },
    {
     "name": "stdout",
     "output_type": "stream",
     "text": [
      "val dataset : 49/100 epochs spend time : 3.6590 sec  / total_loss : 1.2313 correct : 766/1038 -> 73.7958%\n",
      "classification_lr : 0.005314\n"
     ]
    },
    {
     "name": "stderr",
     "output_type": "stream",
     "text": [
      "Train: 100%|██████████| 36/36 [00:09<00:00,  3.61batch/s, accuracy=90, loss=0.366]  \n"
     ]
    },
    {
     "name": "stdout",
     "output_type": "stream",
     "text": [
      "train dataset : 50/100 epochs spend time : 9.9760 sec / total_loss : 0.3768 correct : 8237/9155 -> 89.9727%\n"
     ]
    },
    {
     "name": "stderr",
     "output_type": "stream",
     "text": [
      "Validation: 100%|██████████| 5/5 [00:03<00:00,  1.45batch/s, accuracy=73.7, loss=1.02]\n"
     ]
    },
    {
     "name": "stdout",
     "output_type": "stream",
     "text": [
      "val dataset : 50/100 epochs spend time : 3.4619 sec  / total_loss : 1.2708 correct : 765/1038 -> 73.6994%\n",
      "classification_lr : 0.005157\n"
     ]
    },
    {
     "name": "stderr",
     "output_type": "stream",
     "text": [
      "Train: 100%|██████████| 36/36 [00:09<00:00,  3.60batch/s, accuracy=90.6, loss=0.358]\n"
     ]
    },
    {
     "name": "stdout",
     "output_type": "stream",
     "text": [
      "train dataset : 51/100 epochs spend time : 10.0265 sec / total_loss : 0.3684 correct : 8291/9155 -> 90.5625%\n"
     ]
    },
    {
     "name": "stderr",
     "output_type": "stream",
     "text": [
      "Validation: 100%|██████████| 5/5 [00:03<00:00,  1.41batch/s, accuracy=74.3, loss=1.01]\n"
     ]
    },
    {
     "name": "stdout",
     "output_type": "stream",
     "text": [
      "val dataset : 51/100 epochs spend time : 3.5515 sec  / total_loss : 1.2619 correct : 771/1038 -> 74.2775%\n",
      "classification_lr : 0.005000\n"
     ]
    },
    {
     "name": "stderr",
     "output_type": "stream",
     "text": [
      "Train: 100%|██████████| 36/36 [00:09<00:00,  3.62batch/s, accuracy=90.9, loss=0.349]\n"
     ]
    },
    {
     "name": "stdout",
     "output_type": "stream",
     "text": [
      "train dataset : 52/100 epochs spend time : 9.9495 sec / total_loss : 0.3587 correct : 8318/9155 -> 90.8575%\n"
     ]
    },
    {
     "name": "stderr",
     "output_type": "stream",
     "text": [
      "Validation: 100%|██████████| 5/5 [00:03<00:00,  1.44batch/s, accuracy=73.8, loss=1.03]\n"
     ]
    },
    {
     "name": "stdout",
     "output_type": "stream",
     "text": [
      "val dataset : 52/100 epochs spend time : 3.4842 sec  / total_loss : 1.2907 correct : 766/1038 -> 73.7958%\n",
      "classification_lr : 0.004843\n"
     ]
    },
    {
     "name": "stderr",
     "output_type": "stream",
     "text": [
      "Train: 100%|██████████| 36/36 [00:10<00:00,  3.55batch/s, accuracy=90.9, loss=0.35] \n"
     ]
    },
    {
     "name": "stdout",
     "output_type": "stream",
     "text": [
      "train dataset : 53/100 epochs spend time : 10.1567 sec / total_loss : 0.3598 correct : 8321/9155 -> 90.8902%\n"
     ]
    },
    {
     "name": "stderr",
     "output_type": "stream",
     "text": [
      "Validation: 100%|██████████| 5/5 [00:03<00:00,  1.43batch/s, accuracy=73.4, loss=0.96]\n"
     ]
    },
    {
     "name": "stdout",
     "output_type": "stream",
     "text": [
      "val dataset : 53/100 epochs spend time : 3.5091 sec  / total_loss : 1.2003 correct : 762/1038 -> 73.4104%\n",
      "classification_lr : 0.004686\n"
     ]
    },
    {
     "name": "stderr",
     "output_type": "stream",
     "text": [
      "Train: 100%|██████████| 36/36 [00:09<00:00,  3.62batch/s, accuracy=91, loss=0.333]  \n"
     ]
    },
    {
     "name": "stdout",
     "output_type": "stream",
     "text": [
      "train dataset : 54/100 epochs spend time : 9.9517 sec / total_loss : 0.3429 correct : 8328/9155 -> 90.9667%\n"
     ]
    },
    {
     "name": "stderr",
     "output_type": "stream",
     "text": [
      "Validation: 100%|██████████| 5/5 [00:03<00:00,  1.42batch/s, accuracy=74.6, loss=1.01]\n"
     ]
    },
    {
     "name": "stdout",
     "output_type": "stream",
     "text": [
      "val dataset : 54/100 epochs spend time : 3.5232 sec  / total_loss : 1.2563 correct : 774/1038 -> 74.5665%\n",
      "classification_lr : 0.004529\n"
     ]
    },
    {
     "name": "stderr",
     "output_type": "stream",
     "text": [
      "Train: 100%|██████████| 36/36 [00:09<00:00,  3.61batch/s, accuracy=91.2, loss=0.333]\n"
     ]
    },
    {
     "name": "stdout",
     "output_type": "stream",
     "text": [
      "train dataset : 55/100 epochs spend time : 9.9788 sec / total_loss : 0.3427 correct : 8351/9155 -> 91.2179%\n"
     ]
    },
    {
     "name": "stderr",
     "output_type": "stream",
     "text": [
      "Validation: 100%|██████████| 5/5 [00:03<00:00,  1.41batch/s, accuracy=74.2, loss=0.985]\n"
     ]
    },
    {
     "name": "stdout",
     "output_type": "stream",
     "text": [
      "val dataset : 55/100 epochs spend time : 3.5463 sec  / total_loss : 1.2309 correct : 770/1038 -> 74.1811%\n",
      "classification_lr : 0.004373\n"
     ]
    },
    {
     "name": "stderr",
     "output_type": "stream",
     "text": [
      "Train: 100%|██████████| 36/36 [00:10<00:00,  3.57batch/s, accuracy=91.1, loss=0.34] \n"
     ]
    },
    {
     "name": "stdout",
     "output_type": "stream",
     "text": [
      "train dataset : 56/100 epochs spend time : 10.1079 sec / total_loss : 0.3495 correct : 8336/9155 -> 91.0541%\n"
     ]
    },
    {
     "name": "stderr",
     "output_type": "stream",
     "text": [
      "Validation: 100%|██████████| 5/5 [00:03<00:00,  1.43batch/s, accuracy=72.9, loss=1.06]\n"
     ]
    },
    {
     "name": "stdout",
     "output_type": "stream",
     "text": [
      "val dataset : 56/100 epochs spend time : 3.5073 sec  / total_loss : 1.3222 correct : 757/1038 -> 72.9287%\n",
      "classification_lr : 0.004218\n"
     ]
    },
    {
     "name": "stderr",
     "output_type": "stream",
     "text": [
      "Train: 100%|██████████| 36/36 [00:09<00:00,  3.64batch/s, accuracy=91.1, loss=0.333]\n"
     ]
    },
    {
     "name": "stdout",
     "output_type": "stream",
     "text": [
      "train dataset : 57/100 epochs spend time : 9.9078 sec / total_loss : 0.3429 correct : 8344/9155 -> 91.1415%\n"
     ]
    },
    {
     "name": "stderr",
     "output_type": "stream",
     "text": [
      "Validation: 100%|██████████| 5/5 [00:03<00:00,  1.44batch/s, accuracy=73.9, loss=1.05]\n"
     ]
    },
    {
     "name": "stdout",
     "output_type": "stream",
     "text": [
      "val dataset : 57/100 epochs spend time : 3.4844 sec  / total_loss : 1.3153 correct : 767/1038 -> 73.8921%\n",
      "classification_lr : 0.004063\n"
     ]
    },
    {
     "name": "stderr",
     "output_type": "stream",
     "text": [
      "Train: 100%|██████████| 36/36 [00:09<00:00,  3.61batch/s, accuracy=91.5, loss=0.318]\n"
     ]
    },
    {
     "name": "stdout",
     "output_type": "stream",
     "text": [
      "train dataset : 58/100 epochs spend time : 9.9973 sec / total_loss : 0.3267 correct : 8376/9155 -> 91.4910%\n"
     ]
    },
    {
     "name": "stderr",
     "output_type": "stream",
     "text": [
      "Validation: 100%|██████████| 5/5 [00:03<00:00,  1.42batch/s, accuracy=75, loss=1.05]  \n"
     ]
    },
    {
     "name": "stdout",
     "output_type": "stream",
     "text": [
      "val dataset : 58/100 epochs spend time : 3.5318 sec  / total_loss : 1.3162 correct : 779/1038 -> 75.0482%\n",
      "classification_lr : 0.003909\n"
     ]
    },
    {
     "name": "stderr",
     "output_type": "stream",
     "text": [
      "Train: 100%|██████████| 36/36 [00:10<00:00,  3.56batch/s, accuracy=91.5, loss=0.321]\n"
     ]
    },
    {
     "name": "stdout",
     "output_type": "stream",
     "text": [
      "train dataset : 59/100 epochs spend time : 10.1331 sec / total_loss : 0.3298 correct : 8381/9155 -> 91.5456%\n"
     ]
    },
    {
     "name": "stderr",
     "output_type": "stream",
     "text": [
      "Validation: 100%|██████████| 5/5 [00:03<00:00,  1.43batch/s, accuracy=73.2, loss=1.09]\n"
     ]
    },
    {
     "name": "stdout",
     "output_type": "stream",
     "text": [
      "val dataset : 59/100 epochs spend time : 3.5082 sec  / total_loss : 1.3566 correct : 760/1038 -> 73.2177%\n",
      "classification_lr : 0.003757\n"
     ]
    },
    {
     "name": "stderr",
     "output_type": "stream",
     "text": [
      "Train: 100%|██████████| 36/36 [00:09<00:00,  3.62batch/s, accuracy=91.5, loss=0.324]\n"
     ]
    },
    {
     "name": "stdout",
     "output_type": "stream",
     "text": [
      "train dataset : 60/100 epochs spend time : 9.9675 sec / total_loss : 0.3332 correct : 8378/9155 -> 91.5128%\n"
     ]
    },
    {
     "name": "stderr",
     "output_type": "stream",
     "text": [
      "Validation: 100%|██████████| 5/5 [00:03<00:00,  1.42batch/s, accuracy=73.5, loss=1.04]\n"
     ]
    },
    {
     "name": "stdout",
     "output_type": "stream",
     "text": [
      "val dataset : 60/100 epochs spend time : 3.5168 sec  / total_loss : 1.3020 correct : 763/1038 -> 73.5067%\n",
      "classification_lr : 0.003605\n"
     ]
    },
    {
     "name": "stderr",
     "output_type": "stream",
     "text": [
      "Train: 100%|██████████| 36/36 [00:09<00:00,  3.61batch/s, accuracy=91.7, loss=0.315]\n"
     ]
    },
    {
     "name": "stdout",
     "output_type": "stream",
     "text": [
      "train dataset : 61/100 epochs spend time : 9.9880 sec / total_loss : 0.3242 correct : 8391/9155 -> 91.6548%\n"
     ]
    },
    {
     "name": "stderr",
     "output_type": "stream",
     "text": [
      "Validation: 100%|██████████| 5/5 [00:03<00:00,  1.43batch/s, accuracy=74.3, loss=1.01]\n"
     ]
    },
    {
     "name": "stdout",
     "output_type": "stream",
     "text": [
      "val dataset : 61/100 epochs spend time : 3.5130 sec  / total_loss : 1.2593 correct : 771/1038 -> 74.2775%\n",
      "classification_lr : 0.003455\n"
     ]
    },
    {
     "name": "stderr",
     "output_type": "stream",
     "text": [
      "Train: 100%|██████████| 36/36 [00:09<00:00,  3.61batch/s, accuracy=91.9, loss=0.309]\n"
     ]
    },
    {
     "name": "stdout",
     "output_type": "stream",
     "text": [
      "train dataset : 62/100 epochs spend time : 9.9966 sec / total_loss : 0.3174 correct : 8413/9155 -> 91.8951%\n"
     ]
    },
    {
     "name": "stderr",
     "output_type": "stream",
     "text": [
      "Validation: 100%|██████████| 5/5 [00:03<00:00,  1.43batch/s, accuracy=73.7, loss=1.04]\n"
     ]
    },
    {
     "name": "stdout",
     "output_type": "stream",
     "text": [
      "val dataset : 62/100 epochs spend time : 3.4952 sec  / total_loss : 1.3046 correct : 765/1038 -> 73.6994%\n",
      "classification_lr : 0.003306\n"
     ]
    },
    {
     "name": "stderr",
     "output_type": "stream",
     "text": [
      "Train: 100%|██████████| 36/36 [00:10<00:00,  3.60batch/s, accuracy=91.7, loss=0.316]\n"
     ]
    },
    {
     "name": "stdout",
     "output_type": "stream",
     "text": [
      "train dataset : 63/100 epochs spend time : 10.0183 sec / total_loss : 0.3248 correct : 8395/9155 -> 91.6985%\n"
     ]
    },
    {
     "name": "stderr",
     "output_type": "stream",
     "text": [
      "Validation: 100%|██████████| 5/5 [00:03<00:00,  1.44batch/s, accuracy=73.8, loss=1]   \n"
     ]
    },
    {
     "name": "stdout",
     "output_type": "stream",
     "text": [
      "val dataset : 63/100 epochs spend time : 3.4833 sec  / total_loss : 1.2560 correct : 766/1038 -> 73.7958%\n",
      "classification_lr : 0.003159\n"
     ]
    },
    {
     "name": "stderr",
     "output_type": "stream",
     "text": [
      "Train: 100%|██████████| 36/36 [00:09<00:00,  3.62batch/s, accuracy=92, loss=0.301]  \n"
     ]
    },
    {
     "name": "stdout",
     "output_type": "stream",
     "text": [
      "train dataset : 64/100 epochs spend time : 9.9472 sec / total_loss : 0.3098 correct : 8425/9155 -> 92.0262%\n"
     ]
    },
    {
     "name": "stderr",
     "output_type": "stream",
     "text": [
      "Validation: 100%|██████████| 5/5 [00:03<00:00,  1.42batch/s, accuracy=74.9, loss=1.01]\n"
     ]
    },
    {
     "name": "stdout",
     "output_type": "stream",
     "text": [
      "val dataset : 64/100 epochs spend time : 3.5292 sec  / total_loss : 1.2680 correct : 777/1038 -> 74.8555%\n",
      "classification_lr : 0.003014\n"
     ]
    },
    {
     "name": "stderr",
     "output_type": "stream",
     "text": [
      "Train: 100%|██████████| 36/36 [00:10<00:00,  3.58batch/s, accuracy=92, loss=0.304]  \n"
     ]
    },
    {
     "name": "stdout",
     "output_type": "stream",
     "text": [
      "train dataset : 65/100 epochs spend time : 10.0795 sec / total_loss : 0.3126 correct : 8422/9155 -> 91.9934%\n"
     ]
    },
    {
     "name": "stderr",
     "output_type": "stream",
     "text": [
      "Validation: 100%|██████████| 5/5 [00:03<00:00,  1.44batch/s, accuracy=74, loss=1]     \n"
     ]
    },
    {
     "name": "stdout",
     "output_type": "stream",
     "text": [
      "val dataset : 65/100 epochs spend time : 3.4890 sec  / total_loss : 1.2525 correct : 768/1038 -> 73.9884%\n",
      "classification_lr : 0.002871\n"
     ]
    },
    {
     "name": "stderr",
     "output_type": "stream",
     "text": [
      "Train: 100%|██████████| 36/36 [00:09<00:00,  3.64batch/s, accuracy=91.9, loss=0.306]\n"
     ]
    },
    {
     "name": "stdout",
     "output_type": "stream",
     "text": [
      "train dataset : 66/100 epochs spend time : 9.9170 sec / total_loss : 0.3149 correct : 8414/9155 -> 91.9061%\n"
     ]
    },
    {
     "name": "stderr",
     "output_type": "stream",
     "text": [
      "Validation: 100%|██████████| 5/5 [00:03<00:00,  1.42batch/s, accuracy=74.5, loss=1.04]\n"
     ]
    },
    {
     "name": "stdout",
     "output_type": "stream",
     "text": [
      "val dataset : 66/100 epochs spend time : 3.5207 sec  / total_loss : 1.2953 correct : 773/1038 -> 74.4701%\n",
      "classification_lr : 0.002730\n"
     ]
    },
    {
     "name": "stderr",
     "output_type": "stream",
     "text": [
      "Train: 100%|██████████| 36/36 [00:09<00:00,  3.64batch/s, accuracy=92.1, loss=0.302]\n"
     ]
    },
    {
     "name": "stdout",
     "output_type": "stream",
     "text": [
      "train dataset : 67/100 epochs spend time : 9.9065 sec / total_loss : 0.3103 correct : 8428/9155 -> 92.0590%\n"
     ]
    },
    {
     "name": "stderr",
     "output_type": "stream",
     "text": [
      "Validation: 100%|██████████| 5/5 [00:03<00:00,  1.45batch/s, accuracy=74.2, loss=1.03]\n"
     ]
    },
    {
     "name": "stdout",
     "output_type": "stream",
     "text": [
      "val dataset : 67/100 epochs spend time : 3.4581 sec  / total_loss : 1.2911 correct : 770/1038 -> 74.1811%\n",
      "classification_lr : 0.002591\n"
     ]
    },
    {
     "name": "stderr",
     "output_type": "stream",
     "text": [
      "Train: 100%|██████████| 36/36 [00:10<00:00,  3.56batch/s, accuracy=92.1, loss=0.295]\n"
     ]
    },
    {
     "name": "stdout",
     "output_type": "stream",
     "text": [
      "train dataset : 68/100 epochs spend time : 10.1118 sec / total_loss : 0.3031 correct : 8431/9155 -> 92.0918%\n"
     ]
    },
    {
     "name": "stderr",
     "output_type": "stream",
     "text": [
      "Validation: 100%|██████████| 5/5 [00:03<00:00,  1.43batch/s, accuracy=74.6, loss=1.04]\n"
     ]
    },
    {
     "name": "stdout",
     "output_type": "stream",
     "text": [
      "val dataset : 68/100 epochs spend time : 3.4923 sec  / total_loss : 1.2996 correct : 774/1038 -> 74.5665%\n",
      "classification_lr : 0.002455\n"
     ]
    },
    {
     "name": "stderr",
     "output_type": "stream",
     "text": [
      "Train: 100%|██████████| 36/36 [00:09<00:00,  3.63batch/s, accuracy=92.1, loss=0.291]\n"
     ]
    },
    {
     "name": "stdout",
     "output_type": "stream",
     "text": [
      "train dataset : 69/100 epochs spend time : 9.9288 sec / total_loss : 0.2990 correct : 8430/9155 -> 92.0808%\n"
     ]
    },
    {
     "name": "stderr",
     "output_type": "stream",
     "text": [
      "Validation: 100%|██████████| 5/5 [00:03<00:00,  1.44batch/s, accuracy=73.2, loss=1.03]\n"
     ]
    },
    {
     "name": "stdout",
     "output_type": "stream",
     "text": [
      "val dataset : 69/100 epochs spend time : 3.4819 sec  / total_loss : 1.2918 correct : 760/1038 -> 73.2177%\n",
      "classification_lr : 0.002321\n"
     ]
    },
    {
     "name": "stderr",
     "output_type": "stream",
     "text": [
      "Train: 100%|██████████| 36/36 [00:09<00:00,  3.61batch/s, accuracy=92.4, loss=0.292]\n"
     ]
    },
    {
     "name": "stdout",
     "output_type": "stream",
     "text": [
      "train dataset : 70/100 epochs spend time : 9.9927 sec / total_loss : 0.3004 correct : 8458/9155 -> 92.3867%\n"
     ]
    },
    {
     "name": "stderr",
     "output_type": "stream",
     "text": [
      "Validation: 100%|██████████| 5/5 [00:03<00:00,  1.43batch/s, accuracy=75, loss=1.03]  \n"
     ]
    },
    {
     "name": "stdout",
     "output_type": "stream",
     "text": [
      "val dataset : 70/100 epochs spend time : 3.5044 sec  / total_loss : 1.2920 correct : 778/1038 -> 74.9518%\n",
      "classification_lr : 0.002190\n"
     ]
    },
    {
     "name": "stderr",
     "output_type": "stream",
     "text": [
      "Train: 100%|██████████| 36/36 [00:10<00:00,  3.53batch/s, accuracy=92.5, loss=0.283]\n"
     ]
    },
    {
     "name": "stdout",
     "output_type": "stream",
     "text": [
      "train dataset : 71/100 epochs spend time : 10.2320 sec / total_loss : 0.2911 correct : 8471/9155 -> 92.5287%\n"
     ]
    },
    {
     "name": "stderr",
     "output_type": "stream",
     "text": [
      "Validation: 100%|██████████| 5/5 [00:03<00:00,  1.44batch/s, accuracy=74.3, loss=1.02]\n"
     ]
    },
    {
     "name": "stdout",
     "output_type": "stream",
     "text": [
      "val dataset : 71/100 epochs spend time : 3.4670 sec  / total_loss : 1.2692 correct : 771/1038 -> 74.2775%\n",
      "classification_lr : 0.002061\n"
     ]
    },
    {
     "name": "stderr",
     "output_type": "stream",
     "text": [
      "Train: 100%|██████████| 36/36 [00:09<00:00,  3.62batch/s, accuracy=92.8, loss=0.277]\n"
     ]
    },
    {
     "name": "stdout",
     "output_type": "stream",
     "text": [
      "train dataset : 72/100 epochs spend time : 9.9706 sec / total_loss : 0.2853 correct : 8497/9155 -> 92.8127%\n"
     ]
    },
    {
     "name": "stderr",
     "output_type": "stream",
     "text": [
      "Validation: 100%|██████████| 5/5 [00:03<00:00,  1.44batch/s, accuracy=74.6, loss=1.08]\n"
     ]
    },
    {
     "name": "stdout",
     "output_type": "stream",
     "text": [
      "val dataset : 72/100 epochs spend time : 3.4782 sec  / total_loss : 1.3452 correct : 774/1038 -> 74.5665%\n",
      "classification_lr : 0.001935\n"
     ]
    },
    {
     "name": "stderr",
     "output_type": "stream",
     "text": [
      "Train: 100%|██████████| 36/36 [00:09<00:00,  3.60batch/s, accuracy=92.6, loss=0.277]\n"
     ]
    },
    {
     "name": "stdout",
     "output_type": "stream",
     "text": [
      "train dataset : 73/100 epochs spend time : 10.0187 sec / total_loss : 0.2844 correct : 8478/9155 -> 92.6051%\n"
     ]
    },
    {
     "name": "stderr",
     "output_type": "stream",
     "text": [
      "Validation: 100%|██████████| 5/5 [00:03<00:00,  1.41batch/s, accuracy=75.1, loss=1.03]\n"
     ]
    },
    {
     "name": "stdout",
     "output_type": "stream",
     "text": [
      "val dataset : 73/100 epochs spend time : 3.5435 sec  / total_loss : 1.2921 correct : 780/1038 -> 75.1445%\n",
      "classification_lr : 0.001813\n"
     ]
    },
    {
     "name": "stderr",
     "output_type": "stream",
     "text": [
      "Train: 100%|██████████| 36/36 [00:09<00:00,  3.61batch/s, accuracy=92.4, loss=0.28] \n"
     ]
    },
    {
     "name": "stdout",
     "output_type": "stream",
     "text": [
      "train dataset : 74/100 epochs spend time : 9.9942 sec / total_loss : 0.2882 correct : 8460/9155 -> 92.4085%\n"
     ]
    },
    {
     "name": "stderr",
     "output_type": "stream",
     "text": [
      "Validation: 100%|██████████| 5/5 [00:03<00:00,  1.44batch/s, accuracy=75, loss=1.03]  \n"
     ]
    },
    {
     "name": "stdout",
     "output_type": "stream",
     "text": [
      "val dataset : 74/100 epochs spend time : 3.4719 sec  / total_loss : 1.2874 correct : 779/1038 -> 75.0482%\n",
      "classification_lr : 0.001693\n"
     ]
    },
    {
     "name": "stderr",
     "output_type": "stream",
     "text": [
      "Train: 100%|██████████| 36/36 [00:09<00:00,  3.63batch/s, accuracy=92.9, loss=0.276]\n"
     ]
    },
    {
     "name": "stdout",
     "output_type": "stream",
     "text": [
      "train dataset : 75/100 epochs spend time : 9.9333 sec / total_loss : 0.2836 correct : 8503/9155 -> 92.8782%\n"
     ]
    },
    {
     "name": "stderr",
     "output_type": "stream",
     "text": [
      "Validation: 100%|██████████| 5/5 [00:03<00:00,  1.43batch/s, accuracy=75.4, loss=1.01]\n"
     ]
    },
    {
     "name": "stdout",
     "output_type": "stream",
     "text": [
      "val dataset : 75/100 epochs spend time : 3.4935 sec  / total_loss : 1.2585 correct : 783/1038 -> 75.4335%\n",
      "classification_lr : 0.001577\n"
     ]
    },
    {
     "name": "stderr",
     "output_type": "stream",
     "text": [
      "Train: 100%|██████████| 36/36 [00:09<00:00,  3.64batch/s, accuracy=92.6, loss=0.278]\n"
     ]
    },
    {
     "name": "stdout",
     "output_type": "stream",
     "text": [
      "train dataset : 76/100 epochs spend time : 9.8897 sec / total_loss : 0.2862 correct : 8474/9155 -> 92.5614%\n"
     ]
    },
    {
     "name": "stderr",
     "output_type": "stream",
     "text": [
      "Validation: 100%|██████████| 5/5 [00:03<00:00,  1.43batch/s, accuracy=74.8, loss=1.04]\n"
     ]
    },
    {
     "name": "stdout",
     "output_type": "stream",
     "text": [
      "val dataset : 76/100 epochs spend time : 3.5119 sec  / total_loss : 1.3019 correct : 776/1038 -> 74.7592%\n",
      "classification_lr : 0.001464\n"
     ]
    },
    {
     "name": "stderr",
     "output_type": "stream",
     "text": [
      "Train: 100%|██████████| 36/36 [00:10<00:00,  3.56batch/s, accuracy=92.4, loss=0.285]\n"
     ]
    },
    {
     "name": "stdout",
     "output_type": "stream",
     "text": [
      "train dataset : 77/100 epochs spend time : 10.1416 sec / total_loss : 0.2934 correct : 8457/9155 -> 92.3758%\n"
     ]
    },
    {
     "name": "stderr",
     "output_type": "stream",
     "text": [
      "Validation: 100%|██████████| 5/5 [00:03<00:00,  1.44batch/s, accuracy=75, loss=1.04]  \n"
     ]
    },
    {
     "name": "stdout",
     "output_type": "stream",
     "text": [
      "val dataset : 77/100 epochs spend time : 3.4835 sec  / total_loss : 1.3009 correct : 779/1038 -> 75.0482%\n",
      "classification_lr : 0.001355\n"
     ]
    },
    {
     "name": "stderr",
     "output_type": "stream",
     "text": [
      "Train: 100%|██████████| 36/36 [00:09<00:00,  3.68batch/s, accuracy=92.5, loss=0.287]\n"
     ]
    },
    {
     "name": "stdout",
     "output_type": "stream",
     "text": [
      "train dataset : 78/100 epochs spend time : 9.8082 sec / total_loss : 0.2952 correct : 8466/9155 -> 92.4741%\n"
     ]
    },
    {
     "name": "stderr",
     "output_type": "stream",
     "text": [
      "Validation: 100%|██████████| 5/5 [00:03<00:00,  1.44batch/s, accuracy=75.5, loss=1.01]\n"
     ]
    },
    {
     "name": "stdout",
     "output_type": "stream",
     "text": [
      "val dataset : 78/100 epochs spend time : 3.4766 sec  / total_loss : 1.2583 correct : 784/1038 -> 75.5299%\n",
      "classification_lr : 0.001249\n"
     ]
    },
    {
     "name": "stderr",
     "output_type": "stream",
     "text": [
      "Train: 100%|██████████| 36/36 [00:10<00:00,  3.58batch/s, accuracy=92.6, loss=0.278]\n"
     ]
    },
    {
     "name": "stdout",
     "output_type": "stream",
     "text": [
      "train dataset : 79/100 epochs spend time : 10.0866 sec / total_loss : 0.2858 correct : 8475/9155 -> 92.5724%\n"
     ]
    },
    {
     "name": "stderr",
     "output_type": "stream",
     "text": [
      "Validation: 100%|██████████| 5/5 [00:03<00:00,  1.43batch/s, accuracy=74.6, loss=1.04]\n"
     ]
    },
    {
     "name": "stdout",
     "output_type": "stream",
     "text": [
      "val dataset : 79/100 epochs spend time : 3.5125 sec  / total_loss : 1.2978 correct : 774/1038 -> 74.5665%\n",
      "classification_lr : 0.001147\n"
     ]
    },
    {
     "name": "stderr",
     "output_type": "stream",
     "text": [
      "Train: 100%|██████████| 36/36 [00:09<00:00,  3.60batch/s, accuracy=93.2, loss=0.258]\n"
     ]
    },
    {
     "name": "stdout",
     "output_type": "stream",
     "text": [
      "train dataset : 80/100 epochs spend time : 9.9994 sec / total_loss : 0.2654 correct : 8533/9155 -> 93.2059%\n"
     ]
    },
    {
     "name": "stderr",
     "output_type": "stream",
     "text": [
      "Validation: 100%|██████████| 5/5 [00:03<00:00,  1.43batch/s, accuracy=74.9, loss=1.06]\n"
     ]
    },
    {
     "name": "stdout",
     "output_type": "stream",
     "text": [
      "val dataset : 80/100 epochs spend time : 3.4927 sec  / total_loss : 1.3255 correct : 777/1038 -> 74.8555%\n",
      "classification_lr : 0.001049\n"
     ]
    },
    {
     "name": "stderr",
     "output_type": "stream",
     "text": [
      "Train: 100%|██████████| 36/36 [00:10<00:00,  3.57batch/s, accuracy=92.8, loss=0.274]\n"
     ]
    },
    {
     "name": "stdout",
     "output_type": "stream",
     "text": [
      "train dataset : 81/100 epochs spend time : 10.0932 sec / total_loss : 0.2817 correct : 8495/9155 -> 92.7908%\n"
     ]
    },
    {
     "name": "stderr",
     "output_type": "stream",
     "text": [
      "Validation: 100%|██████████| 5/5 [00:03<00:00,  1.43batch/s, accuracy=75, loss=1.02]  \n"
     ]
    },
    {
     "name": "stdout",
     "output_type": "stream",
     "text": [
      "val dataset : 81/100 epochs spend time : 3.4906 sec  / total_loss : 1.2780 correct : 778/1038 -> 74.9518%\n",
      "classification_lr : 0.000955\n"
     ]
    },
    {
     "name": "stderr",
     "output_type": "stream",
     "text": [
      "Train: 100%|██████████| 36/36 [00:09<00:00,  3.62batch/s, accuracy=93, loss=0.267]  \n"
     ]
    },
    {
     "name": "stdout",
     "output_type": "stream",
     "text": [
      "train dataset : 82/100 epochs spend time : 9.9602 sec / total_loss : 0.2748 correct : 8518/9155 -> 93.0421%\n"
     ]
    },
    {
     "name": "stderr",
     "output_type": "stream",
     "text": [
      "Validation: 100%|██████████| 5/5 [00:03<00:00,  1.42batch/s, accuracy=75.1, loss=1.01]\n"
     ]
    },
    {
     "name": "stdout",
     "output_type": "stream",
     "text": [
      "val dataset : 82/100 epochs spend time : 3.5342 sec  / total_loss : 1.2638 correct : 780/1038 -> 75.1445%\n",
      "classification_lr : 0.000865\n"
     ]
    },
    {
     "name": "stderr",
     "output_type": "stream",
     "text": [
      "Train: 100%|██████████| 36/36 [00:09<00:00,  3.61batch/s, accuracy=93.3, loss=0.254]\n"
     ]
    },
    {
     "name": "stdout",
     "output_type": "stream",
     "text": [
      "train dataset : 83/100 epochs spend time : 9.9780 sec / total_loss : 0.2616 correct : 8540/9155 -> 93.2824%\n"
     ]
    },
    {
     "name": "stderr",
     "output_type": "stream",
     "text": [
      "Validation: 100%|██████████| 5/5 [00:03<00:00,  1.43batch/s, accuracy=75.2, loss=1.05]\n"
     ]
    },
    {
     "name": "stdout",
     "output_type": "stream",
     "text": [
      "val dataset : 83/100 epochs spend time : 3.4979 sec  / total_loss : 1.3071 correct : 781/1038 -> 75.2408%\n",
      "classification_lr : 0.000778\n"
     ]
    },
    {
     "name": "stderr",
     "output_type": "stream",
     "text": [
      "Train: 100%|██████████| 36/36 [00:09<00:00,  3.62batch/s, accuracy=93, loss=0.263]  \n"
     ]
    },
    {
     "name": "stdout",
     "output_type": "stream",
     "text": [
      "train dataset : 84/100 epochs spend time : 9.9469 sec / total_loss : 0.2707 correct : 8515/9155 -> 93.0093%\n"
     ]
    },
    {
     "name": "stderr",
     "output_type": "stream",
     "text": [
      "Validation: 100%|██████████| 5/5 [00:03<00:00,  1.45batch/s, accuracy=75.4, loss=1.04]\n"
     ]
    },
    {
     "name": "stdout",
     "output_type": "stream",
     "text": [
      "val dataset : 84/100 epochs spend time : 3.4588 sec  / total_loss : 1.2960 correct : 783/1038 -> 75.4335%\n",
      "classification_lr : 0.000696\n"
     ]
    },
    {
     "name": "stderr",
     "output_type": "stream",
     "text": [
      "Train: 100%|██████████| 36/36 [00:09<00:00,  3.60batch/s, accuracy=93.2, loss=0.256]\n"
     ]
    },
    {
     "name": "stdout",
     "output_type": "stream",
     "text": [
      "train dataset : 85/100 epochs spend time : 10.0005 sec / total_loss : 0.2629 correct : 8534/9155 -> 93.2168%\n"
     ]
    },
    {
     "name": "stderr",
     "output_type": "stream",
     "text": [
      "Validation: 100%|██████████| 5/5 [00:03<00:00,  1.43batch/s, accuracy=75, loss=1.05]  \n"
     ]
    },
    {
     "name": "stdout",
     "output_type": "stream",
     "text": [
      "val dataset : 85/100 epochs spend time : 3.4912 sec  / total_loss : 1.3095 correct : 778/1038 -> 74.9518%\n",
      "classification_lr : 0.000618\n"
     ]
    },
    {
     "name": "stderr",
     "output_type": "stream",
     "text": [
      "Train: 100%|██████████| 36/36 [00:10<00:00,  3.58batch/s, accuracy=93.7, loss=0.247]\n"
     ]
    },
    {
     "name": "stdout",
     "output_type": "stream",
     "text": [
      "train dataset : 86/100 epochs spend time : 10.0709 sec / total_loss : 0.2536 correct : 8578/9155 -> 93.6974%\n"
     ]
    },
    {
     "name": "stderr",
     "output_type": "stream",
     "text": [
      "Validation: 100%|██████████| 5/5 [00:03<00:00,  1.42batch/s, accuracy=75.5, loss=1.02]\n"
     ]
    },
    {
     "name": "stdout",
     "output_type": "stream",
     "text": [
      "val dataset : 86/100 epochs spend time : 3.5200 sec  / total_loss : 1.2741 correct : 784/1038 -> 75.5299%\n",
      "classification_lr : 0.000545\n"
     ]
    },
    {
     "name": "stderr",
     "output_type": "stream",
     "text": [
      "Train: 100%|██████████| 36/36 [00:10<00:00,  3.59batch/s, accuracy=93.2, loss=0.26] \n"
     ]
    },
    {
     "name": "stdout",
     "output_type": "stream",
     "text": [
      "train dataset : 87/100 epochs spend time : 10.0355 sec / total_loss : 0.2679 correct : 8530/9155 -> 93.1731%\n"
     ]
    },
    {
     "name": "stderr",
     "output_type": "stream",
     "text": [
      "Validation: 100%|██████████| 5/5 [00:03<00:00,  1.43batch/s, accuracy=75.4, loss=1.03]\n"
     ]
    },
    {
     "name": "stdout",
     "output_type": "stream",
     "text": [
      "val dataset : 87/100 epochs spend time : 3.5039 sec  / total_loss : 1.2865 correct : 783/1038 -> 75.4335%\n",
      "classification_lr : 0.000476\n"
     ]
    },
    {
     "name": "stderr",
     "output_type": "stream",
     "text": [
      "Train: 100%|██████████| 36/36 [00:09<00:00,  3.62batch/s, accuracy=93.4, loss=0.257]\n"
     ]
    },
    {
     "name": "stdout",
     "output_type": "stream",
     "text": [
      "train dataset : 88/100 epochs spend time : 9.9680 sec / total_loss : 0.2648 correct : 8547/9155 -> 93.3588%\n"
     ]
    },
    {
     "name": "stderr",
     "output_type": "stream",
     "text": [
      "Validation: 100%|██████████| 5/5 [00:03<00:00,  1.44batch/s, accuracy=74.8, loss=1.02]\n"
     ]
    },
    {
     "name": "stdout",
     "output_type": "stream",
     "text": [
      "val dataset : 88/100 epochs spend time : 3.4768 sec  / total_loss : 1.2756 correct : 776/1038 -> 74.7592%\n",
      "classification_lr : 0.000411\n"
     ]
    },
    {
     "name": "stderr",
     "output_type": "stream",
     "text": [
      "Train: 100%|██████████| 36/36 [00:10<00:00,  3.54batch/s, accuracy=94.1, loss=0.235]\n"
     ]
    },
    {
     "name": "stdout",
     "output_type": "stream",
     "text": [
      "train dataset : 89/100 epochs spend time : 10.1939 sec / total_loss : 0.2413 correct : 8616/9155 -> 94.1125%\n"
     ]
    },
    {
     "name": "stderr",
     "output_type": "stream",
     "text": [
      "Validation: 100%|██████████| 5/5 [00:03<00:00,  1.43batch/s, accuracy=74.8, loss=1.02]\n"
     ]
    },
    {
     "name": "stdout",
     "output_type": "stream",
     "text": [
      "val dataset : 89/100 epochs spend time : 3.4907 sec  / total_loss : 1.2735 correct : 776/1038 -> 74.7592%\n",
      "classification_lr : 0.000351\n"
     ]
    },
    {
     "name": "stderr",
     "output_type": "stream",
     "text": [
      "Train: 100%|██████████| 36/36 [00:09<00:00,  3.64batch/s, accuracy=93.4, loss=0.251]\n"
     ]
    },
    {
     "name": "stdout",
     "output_type": "stream",
     "text": [
      "train dataset : 90/100 epochs spend time : 9.8954 sec / total_loss : 0.2579 correct : 8549/9155 -> 93.3807%\n"
     ]
    },
    {
     "name": "stderr",
     "output_type": "stream",
     "text": [
      "Validation: 100%|██████████| 5/5 [00:03<00:00,  1.44batch/s, accuracy=74.9, loss=1.02]\n"
     ]
    },
    {
     "name": "stdout",
     "output_type": "stream",
     "text": [
      "val dataset : 90/100 epochs spend time : 3.4876 sec  / total_loss : 1.2759 correct : 777/1038 -> 74.8555%\n",
      "classification_lr : 0.000296\n"
     ]
    },
    {
     "name": "stderr",
     "output_type": "stream",
     "text": [
      "Train: 100%|██████████| 36/36 [00:10<00:00,  3.58batch/s, accuracy=93.2, loss=0.248]\n"
     ]
    },
    {
     "name": "stdout",
     "output_type": "stream",
     "text": [
      "train dataset : 91/100 epochs spend time : 10.0801 sec / total_loss : 0.2555 correct : 8536/9155 -> 93.2387%\n"
     ]
    },
    {
     "name": "stderr",
     "output_type": "stream",
     "text": [
      "Validation: 100%|██████████| 5/5 [00:03<00:00,  1.43batch/s, accuracy=75, loss=1.04]  \n"
     ]
    },
    {
     "name": "stdout",
     "output_type": "stream",
     "text": [
      "val dataset : 91/100 epochs spend time : 3.4973 sec  / total_loss : 1.2950 correct : 779/1038 -> 75.0482%\n",
      "classification_lr : 0.000245\n"
     ]
    },
    {
     "name": "stderr",
     "output_type": "stream",
     "text": [
      "Train: 100%|██████████| 36/36 [00:09<00:00,  3.61batch/s, accuracy=93.4, loss=0.25] \n"
     ]
    },
    {
     "name": "stdout",
     "output_type": "stream",
     "text": [
      "train dataset : 92/100 epochs spend time : 9.9765 sec / total_loss : 0.2573 correct : 8551/9155 -> 93.4025%\n"
     ]
    },
    {
     "name": "stderr",
     "output_type": "stream",
     "text": [
      "Validation: 100%|██████████| 5/5 [00:03<00:00,  1.44batch/s, accuracy=74.8, loss=1.03]\n"
     ]
    },
    {
     "name": "stdout",
     "output_type": "stream",
     "text": [
      "val dataset : 92/100 epochs spend time : 3.4771 sec  / total_loss : 1.2893 correct : 776/1038 -> 74.7592%\n",
      "classification_lr : 0.000199\n"
     ]
    },
    {
     "name": "stderr",
     "output_type": "stream",
     "text": [
      "Train: 100%|██████████| 36/36 [00:09<00:00,  3.61batch/s, accuracy=93.2, loss=0.253]\n"
     ]
    },
    {
     "name": "stdout",
     "output_type": "stream",
     "text": [
      "train dataset : 93/100 epochs spend time : 9.9861 sec / total_loss : 0.2597 correct : 8533/9155 -> 93.2059%\n"
     ]
    },
    {
     "name": "stderr",
     "output_type": "stream",
     "text": [
      "Validation: 100%|██████████| 5/5 [00:03<00:00,  1.42batch/s, accuracy=75.1, loss=1.03]\n"
     ]
    },
    {
     "name": "stdout",
     "output_type": "stream",
     "text": [
      "val dataset : 93/100 epochs spend time : 3.5180 sec  / total_loss : 1.2813 correct : 780/1038 -> 75.1445%\n",
      "classification_lr : 0.000157\n"
     ]
    },
    {
     "name": "stderr",
     "output_type": "stream",
     "text": [
      "Train: 100%|██████████| 36/36 [00:10<00:00,  3.56batch/s, accuracy=93.4, loss=0.255]\n"
     ]
    },
    {
     "name": "stdout",
     "output_type": "stream",
     "text": [
      "train dataset : 94/100 epochs spend time : 10.1259 sec / total_loss : 0.2627 correct : 8549/9155 -> 93.3807%\n"
     ]
    },
    {
     "name": "stderr",
     "output_type": "stream",
     "text": [
      "Validation: 100%|██████████| 5/5 [00:03<00:00,  1.43batch/s, accuracy=74.9, loss=1.04]\n"
     ]
    },
    {
     "name": "stdout",
     "output_type": "stream",
     "text": [
      "val dataset : 94/100 epochs spend time : 3.5044 sec  / total_loss : 1.2941 correct : 777/1038 -> 74.8555%\n",
      "classification_lr : 0.000120\n"
     ]
    },
    {
     "name": "stderr",
     "output_type": "stream",
     "text": [
      "Train: 100%|██████████| 36/36 [00:10<00:00,  3.56batch/s, accuracy=93.4, loss=0.249]\n"
     ]
    },
    {
     "name": "stdout",
     "output_type": "stream",
     "text": [
      "train dataset : 95/100 epochs spend time : 10.1126 sec / total_loss : 0.2565 correct : 8550/9155 -> 93.3916%\n"
     ]
    },
    {
     "name": "stderr",
     "output_type": "stream",
     "text": [
      "Validation: 100%|██████████| 5/5 [00:03<00:00,  1.37batch/s, accuracy=74.8, loss=1.02]\n"
     ]
    },
    {
     "name": "stdout",
     "output_type": "stream",
     "text": [
      "val dataset : 95/100 epochs spend time : 3.6451 sec  / total_loss : 1.2710 correct : 776/1038 -> 74.7592%\n",
      "classification_lr : 0.000089\n"
     ]
    },
    {
     "name": "stderr",
     "output_type": "stream",
     "text": [
      "Train: 100%|██████████| 36/36 [00:09<00:00,  3.62batch/s, accuracy=93.9, loss=0.232]\n"
     ]
    },
    {
     "name": "stdout",
     "output_type": "stream",
     "text": [
      "train dataset : 96/100 epochs spend time : 9.9704 sec / total_loss : 0.2386 correct : 8592/9155 -> 93.8504%\n"
     ]
    },
    {
     "name": "stderr",
     "output_type": "stream",
     "text": [
      "Validation: 100%|██████████| 5/5 [00:03<00:00,  1.44batch/s, accuracy=75, loss=1.04]  \n"
     ]
    },
    {
     "name": "stdout",
     "output_type": "stream",
     "text": [
      "val dataset : 96/100 epochs spend time : 3.4742 sec  / total_loss : 1.3026 correct : 779/1038 -> 75.0482%\n",
      "classification_lr : 0.000062\n"
     ]
    },
    {
     "name": "stderr",
     "output_type": "stream",
     "text": [
      "Train: 100%|██████████| 36/36 [00:09<00:00,  3.62batch/s, accuracy=93.4, loss=0.249]\n"
     ]
    },
    {
     "name": "stdout",
     "output_type": "stream",
     "text": [
      "train dataset : 97/100 epochs spend time : 9.9529 sec / total_loss : 0.2565 correct : 8547/9155 -> 93.3588%\n"
     ]
    },
    {
     "name": "stderr",
     "output_type": "stream",
     "text": [
      "Validation: 100%|██████████| 5/5 [00:03<00:00,  1.40batch/s, accuracy=74.3, loss=1.03]\n"
     ]
    },
    {
     "name": "stdout",
     "output_type": "stream",
     "text": [
      "val dataset : 97/100 epochs spend time : 3.5664 sec  / total_loss : 1.2857 correct : 771/1038 -> 74.2775%\n",
      "classification_lr : 0.000039\n"
     ]
    },
    {
     "name": "stderr",
     "output_type": "stream",
     "text": [
      "Train: 100%|██████████| 36/36 [00:10<00:00,  3.58batch/s, accuracy=93.6, loss=0.248]\n"
     ]
    },
    {
     "name": "stdout",
     "output_type": "stream",
     "text": [
      "train dataset : 98/100 epochs spend time : 10.0751 sec / total_loss : 0.2556 correct : 8572/9155 -> 93.6319%\n"
     ]
    },
    {
     "name": "stderr",
     "output_type": "stream",
     "text": [
      "Validation: 100%|██████████| 5/5 [00:03<00:00,  1.39batch/s, accuracy=74.2, loss=1.03]\n"
     ]
    },
    {
     "name": "stdout",
     "output_type": "stream",
     "text": [
      "val dataset : 98/100 epochs spend time : 3.6152 sec  / total_loss : 1.2870 correct : 770/1038 -> 74.1811%\n",
      "classification_lr : 0.000022\n"
     ]
    },
    {
     "name": "stderr",
     "output_type": "stream",
     "text": [
      "Train: 100%|██████████| 36/36 [00:09<00:00,  3.64batch/s, accuracy=93.2, loss=0.258]\n"
     ]
    },
    {
     "name": "stdout",
     "output_type": "stream",
     "text": [
      "train dataset : 99/100 epochs spend time : 9.9154 sec / total_loss : 0.2656 correct : 8533/9155 -> 93.2059%\n"
     ]
    },
    {
     "name": "stderr",
     "output_type": "stream",
     "text": [
      "Validation: 100%|██████████| 5/5 [00:03<00:00,  1.42batch/s, accuracy=75, loss=1.03]  \n"
     ]
    },
    {
     "name": "stdout",
     "output_type": "stream",
     "text": [
      "val dataset : 99/100 epochs spend time : 3.5179 sec  / total_loss : 1.2855 correct : 778/1038 -> 74.9518%\n",
      "classification_lr : 0.000010\n"
     ]
    },
    {
     "name": "stderr",
     "output_type": "stream",
     "text": [
      "Train: 100%|██████████| 36/36 [00:10<00:00,  3.59batch/s, accuracy=93.2, loss=0.266]\n"
     ]
    },
    {
     "name": "stdout",
     "output_type": "stream",
     "text": [
      "train dataset : 100/100 epochs spend time : 10.0506 sec / total_loss : 0.2733 correct : 8532/9155 -> 93.1950%\n"
     ]
    },
    {
     "name": "stderr",
     "output_type": "stream",
     "text": [
      "Validation: 100%|██████████| 5/5 [00:03<00:00,  1.45batch/s, accuracy=75, loss=1.02]  "
     ]
    },
    {
     "name": "stdout",
     "output_type": "stream",
     "text": [
      "val dataset : 100/100 epochs spend time : 3.4578 sec  / total_loss : 1.2758 correct : 779/1038 -> 75.0482%\n"
     ]
    },
    {
     "name": "stderr",
     "output_type": "stream",
     "text": [
      "\n"
     ]
    }
   ],
   "source": [
    "total_train_loss = []\n",
    "total_train_acc = []\n",
    "total_val_loss = []\n",
    "total_val_acc = []\n",
    "\n",
    "for epoch in range(epochs):\n",
    "    train_total_loss = 0.0\n",
    "    train_total_count = 0\n",
    "    train_total_data = 0\n",
    "    \n",
    "    val_total_loss = 0.0\n",
    "    val_total_count = 0\n",
    "    val_total_data = 0\n",
    "\n",
    "    start_time = time.time()\n",
    "    \n",
    "    model.train()\n",
    "\n",
    "    output_str = 'classification_lr : %f\\n'%(optimizer.state_dict()['param_groups'][0]['lr'])\n",
    "    sys.stdout.write(output_str)\n",
    "\n",
    "    \n",
    "    with tqdm(train_dataloader,desc='Train',unit='batch') as tepoch:\n",
    "        for index,(img, label,domain) in enumerate(tepoch):\n",
    "            img = img.to(device)\n",
    "            label = label.long().to(device)\n",
    "\n",
    "            optimizer.zero_grad()\n",
    "            \n",
    "            pred = model(img)\n",
    "\n",
    "            loss = loss_fn(pred, label) # + beta * norm\n",
    "\n",
    "            _, predict = torch.max(pred, 1)\n",
    "            check_count = (predict == label).sum().item()\n",
    "\n",
    "            train_total_loss += loss.item()\n",
    "\n",
    "            train_total_count += check_count\n",
    "            train_total_data += len(img)\n",
    "            loss.backward()\n",
    "            optimizer.step()\n",
    "            accuracy = train_total_count / train_total_data\n",
    "            tepoch.set_postfix(loss=train_total_loss/(index+1),accuracy=100.*accuracy)\n",
    "            \n",
    "    # scheduler.step(epoch)\n",
    "    scheduler.step()\n",
    "    \n",
    "    train_total_loss /= index\n",
    "    train_accuracy = train_total_count / train_total_data * 100\n",
    "\n",
    "    output_str = 'train dataset : %d/%d epochs spend time : %.4f sec / total_loss : %.4f correct : %d/%d -> %.4f%%\\n' \\\n",
    "                % (epoch + 1, epochs, time.time() - start_time, train_total_loss,\n",
    "                    train_total_count, train_total_data, train_accuracy)\n",
    "    total_train_loss.append(train_total_loss)\n",
    "    total_train_acc.append(train_accuracy)\n",
    "    sys.stdout.write(output_str)\n",
    "    \n",
    "\n",
    "    # check validation dataset\n",
    "    start_time = time.time()\n",
    "    model.eval()\n",
    "\n",
    "    with tqdm(val_dataloader,desc='Validation',unit='batch') as tepoch:\n",
    "        for index,(img, label,domain) in enumerate(tepoch):\n",
    "            img = img.to(device)\n",
    "            label = label.long().to(device)\n",
    "\n",
    "            with torch.no_grad():\n",
    "            \n",
    "                pred = model(img)\n",
    "                loss = loss_fn(pred, label) # + beta * norm\n",
    "\n",
    "\n",
    "                # acc\n",
    "                _, predict = torch.max(pred, 1)\n",
    "                check_count = (predict == label).sum().item()\n",
    "\n",
    "                val_total_loss += loss.item()\n",
    "                val_total_count += check_count\n",
    "                val_total_data += len(img)\n",
    "                accuracy = val_total_count / val_total_data\n",
    "                tepoch.set_postfix(loss=val_total_loss/(index+1),accuracy=100.*accuracy)\n",
    "\n",
    "\n",
    "    val_total_loss /= index\n",
    "    val_accuracy = val_total_count / val_total_data * 100\n",
    "\n",
    "    output_str = 'val dataset : %d/%d epochs spend time : %.4f sec  / total_loss : %.4f correct : %d/%d -> %.4f%%\\n' \\\n",
    "                % (epoch + 1, epochs, time.time() - start_time, val_total_loss,\n",
    "                    val_total_count, val_total_data, val_accuracy)\n",
    "    sys.stdout.write(output_str)\n",
    "    \n",
    "    total_val_loss.append(val_total_loss)\n",
    "    total_val_acc.append(val_accuracy)\n"
   ]
  },
  {
   "cell_type": "code",
   "execution_count": 20,
   "metadata": {},
   "outputs": [
    {
     "name": "stdout",
     "output_type": "stream",
     "text": [
      "Tue Aug  2 23:01:48 2022       \n",
      "+-----------------------------------------------------------------------------+\n",
      "| NVIDIA-SMI 455.32.00    Driver Version: 455.32.00    CUDA Version: 11.1     |\n",
      "|-------------------------------+----------------------+----------------------+\n",
      "| GPU  Name        Persistence-M| Bus-Id        Disp.A | Volatile Uncorr. ECC |\n",
      "| Fan  Temp  Perf  Pwr:Usage/Cap|         Memory-Usage | GPU-Util  Compute M. |\n",
      "|                               |                      |               MIG M. |\n",
      "|===============================+======================+======================|\n",
      "|   0  GeForce RTX 3090    Off  | 00000000:19:00.0 Off |                  N/A |\n",
      "|  0%   46C    P2   336W / 350W |  10341MiB / 24268MiB |    100%      Default |\n",
      "|                               |                      |                  N/A |\n",
      "+-------------------------------+----------------------+----------------------+\n",
      "|   1  GeForce RTX 3090    Off  | 00000000:1A:00.0 Off |                  N/A |\n",
      "|  0%   52C    P2   336W / 350W |   8364MiB / 24268MiB |    100%      Default |\n",
      "|                               |                      |                  N/A |\n",
      "+-------------------------------+----------------------+----------------------+\n",
      "|   2  GeForce RTX 3090    Off  | 00000000:67:00.0 Off |                  N/A |\n",
      "|  0%   52C    P2   334W / 350W |   8364MiB / 24268MiB |    100%      Default |\n",
      "|                               |                      |                  N/A |\n",
      "+-------------------------------+----------------------+----------------------+\n",
      "|   3  GeForce RTX 3090    Off  | 00000000:68:00.0 Off |                  N/A |\n",
      "|  0%   55C    P2   327W / 350W |   8360MiB / 24265MiB |    100%      Default |\n",
      "|                               |                      |                  N/A |\n",
      "+-------------------------------+----------------------+----------------------+\n",
      "                                                                               \n",
      "+-----------------------------------------------------------------------------+\n",
      "| Processes:                                                                  |\n",
      "|  GPU   GI   CI        PID   Type   Process name                  GPU Memory |\n",
      "|        ID   ID                                                   Usage      |\n",
      "|=============================================================================|\n",
      "|    0   N/A  N/A     10200      C   ...vs/pytorch_p38/bin/python     4725MiB |\n",
      "|    0   N/A  N/A     14156      C   ...vs/pytorch_p38/bin/python     1789MiB |\n",
      "|    0   N/A  N/A     17091      C   /home/eslab/packages/t-rex       3825MiB |\n",
      "|    1   N/A  N/A     10200      C   ...vs/pytorch_p38/bin/python     4537MiB |\n",
      "|    1   N/A  N/A     14156      C   ...vs/pytorch_p38/bin/python        0MiB |\n",
      "|    1   N/A  N/A     17091      C   /home/eslab/packages/t-rex       3825MiB |\n",
      "|    2   N/A  N/A     10200      C   ...vs/pytorch_p38/bin/python     4537MiB |\n",
      "|    2   N/A  N/A     14156      C   ...vs/pytorch_p38/bin/python        0MiB |\n",
      "|    2   N/A  N/A     17091      C   /home/eslab/packages/t-rex       3825MiB |\n",
      "|    3   N/A  N/A     10200      C   ...vs/pytorch_p38/bin/python     4533MiB |\n",
      "|    3   N/A  N/A     14156      C   ...vs/pytorch_p38/bin/python        0MiB |\n",
      "|    3   N/A  N/A     17091      C   /home/eslab/packages/t-rex       3825MiB |\n",
      "+-----------------------------------------------------------------------------+\n"
     ]
    }
   ],
   "source": [
    "!nvidia-smi"
   ]
  },
  {
   "cell_type": "code",
   "execution_count": 21,
   "metadata": {},
   "outputs": [],
   "source": [
    "import matplotlib.pyplot as plt"
   ]
  },
  {
   "cell_type": "code",
   "execution_count": 25,
   "metadata": {},
   "outputs": [
    {
     "name": "stdout",
     "output_type": "stream",
     "text": [
      "<class 'float'>\n"
     ]
    }
   ],
   "source": []
  },
  {
   "cell_type": "code",
   "execution_count": 40,
   "metadata": {},
   "outputs": [
    {
     "data": {
      "image/png": "[encoded data removed]",
      "text/plain": [
       "<Figure size 432x288 with 1 Axes>"
      ]
     },
     "metadata": {
      "needs_background": "light"
     },
     "output_type": "display_data"
    },
    {
     "data": {
      "text/plain": [
       "<Figure size 432x288 with 0 Axes>"
      ]
     },
     "metadata": {},
     "output_type": "display_data"
    }
   ],
   "source": [
    "plt.plot(np.array(total_train_loss),label='train loss')\n",
    "plt.plot(np.array(total_val_loss),label='val loss')\n",
    "plt.plot([np.array(total_val_acc).argmax(),np.array(total_val_acc).argmax()],[0,np.array(total_train_loss).max()])\n",
    "plt.xlabel('loss')\n",
    "plt.ylabel('epoch')\n",
    "plt.legend()\n",
    "plt.show()\n",
    "plt.cla()\n",
    "plt.clf()"
   ]
  },
  {
   "cell_type": "code",
   "execution_count": 41,
   "metadata": {},
   "outputs": [
    {
     "data": {
      "image/png": "[encoded data removed]",
      "text/plain": [
       "<Figure size 432x288 with 1 Axes>"
      ]
     },
     "metadata": {
      "needs_background": "light"
     },
     "output_type": "display_data"
    },
    {
     "data": {
      "text/plain": [
       "<Figure size 432x288 with 0 Axes>"
      ]
     },
     "metadata": {},
     "output_type": "display_data"
    }
   ],
   "source": [
    "plt.plot(np.array(total_train_acc),label='train Acc.')\n",
    "plt.plot(np.array(total_val_acc),label='val Acc.')\n",
    "plt.plot([np.array(total_val_acc).argmax(),np.array(total_val_acc).argmax()],[0,100])\n",
    "plt.xlabel('Acc.')\n",
    "plt.ylabel('epoch')\n",
    "plt.legend()\n",
    "plt.show()\n",
    "plt.cla()\n",
    "plt.clf()"
   ]
  },
  {
   "cell_type": "code",
   "execution_count": 42,
   "metadata": {},
   "outputs": [
    {
     "name": "stdout",
     "output_type": "stream",
     "text": [
      "Tue Aug  2 23:12:01 2022       \n",
      "+-----------------------------------------------------------------------------+\n",
      "| NVIDIA-SMI 455.32.00    Driver Version: 455.32.00    CUDA Version: 11.1     |\n",
      "|-------------------------------+----------------------+----------------------+\n",
      "| GPU  Name        Persistence-M| Bus-Id        Disp.A | Volatile Uncorr. ECC |\n",
      "| Fan  Temp  Perf  Pwr:Usage/Cap|         Memory-Usage | GPU-Util  Compute M. |\n",
      "|                               |                      |               MIG M. |\n",
      "|===============================+======================+======================|\n",
      "|   0  GeForce RTX 3090    Off  | 00000000:19:00.0 Off |                  N/A |\n",
      "|  0%   46C    P2   335W / 350W |  10341MiB / 24268MiB |    100%      Default |\n",
      "|                               |                      |                  N/A |\n",
      "+-------------------------------+----------------------+----------------------+\n",
      "|   1  GeForce RTX 3090    Off  | 00000000:1A:00.0 Off |                  N/A |\n",
      "|  0%   53C    P2   337W / 350W |   8364MiB / 24268MiB |    100%      Default |\n",
      "|                               |                      |                  N/A |\n",
      "+-------------------------------+----------------------+----------------------+\n",
      "|   2  GeForce RTX 3090    Off  | 00000000:67:00.0 Off |                  N/A |\n",
      "|  0%   52C    P2   334W / 350W |   8364MiB / 24268MiB |    100%      Default |\n",
      "|                               |                      |                  N/A |\n",
      "+-------------------------------+----------------------+----------------------+\n",
      "|   3  GeForce RTX 3090    Off  | 00000000:68:00.0 Off |                  N/A |\n",
      "|  0%   56C    P2   328W / 350W |   8360MiB / 24265MiB |    100%      Default |\n",
      "|                               |                      |                  N/A |\n",
      "+-------------------------------+----------------------+----------------------+\n",
      "                                                                               \n",
      "+-----------------------------------------------------------------------------+\n",
      "| Processes:                                                                  |\n",
      "|  GPU   GI   CI        PID   Type   Process name                  GPU Memory |\n",
      "|        ID   ID                                                   Usage      |\n",
      "|=============================================================================|\n",
      "|    0   N/A  N/A     10200      C   ...vs/pytorch_p38/bin/python     4725MiB |\n",
      "|    0   N/A  N/A     14156      C   ...vs/pytorch_p38/bin/python     1789MiB |\n",
      "|    0   N/A  N/A     17091      C   /home/eslab/packages/t-rex       3825MiB |\n",
      "|    1   N/A  N/A     10200      C   ...vs/pytorch_p38/bin/python     4537MiB |\n",
      "|    1   N/A  N/A     14156      C   ...vs/pytorch_p38/bin/python        0MiB |\n",
      "|    1   N/A  N/A     17091      C   /home/eslab/packages/t-rex       3825MiB |\n",
      "|    2   N/A  N/A     10200      C   ...vs/pytorch_p38/bin/python     4537MiB |\n",
      "|    2   N/A  N/A     14156      C   ...vs/pytorch_p38/bin/python        0MiB |\n",
      "|    2   N/A  N/A     17091      C   /home/eslab/packages/t-rex       3825MiB |\n",
      "|    3   N/A  N/A     10200      C   ...vs/pytorch_p38/bin/python     4533MiB |\n",
      "|    3   N/A  N/A     14156      C   ...vs/pytorch_p38/bin/python        0MiB |\n",
      "|    3   N/A  N/A     17091      C   /home/eslab/packages/t-rex       3825MiB |\n",
      "+-----------------------------------------------------------------------------+\n"
     ]
    }
   ],
   "source": [
    "!nvidia-smi"
   ]
  },
  {
   "cell_type": "code",
   "execution_count": null,
   "metadata": {},
   "outputs": [],
   "source": []
  }
 ],
 "metadata": {
  "kernelspec": {
   "display_name": "Python 3.8.12 ('pytorch_p38')",
   "language": "python",
   "name": "python3"
  },
  "language_info": {
   "codemirror_mode": {
    "name": "ipython",
    "version": 3
   },
   "file_extension": ".py",
   "mimetype": "text/x-python",
   "name": "python",
   "nbconvert_exporter": "python",
   "pygments_lexer": "ipython3",
   "version": "3.8.12"
  },
  "orig_nbformat": 4,
  "vscode": {
   "interpreter": {
    "hash": "2cd1452618544b667d70d0feaebcedea185cfa44139336063f02cf92e1e17174"
   }
  }
 },
 "nbformat": 4,
 "nbformat_minor": 2
}
